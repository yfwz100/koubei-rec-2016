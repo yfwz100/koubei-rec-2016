{
 "cells": [
  {
   "cell_type": "code",
   "execution_count": 1,
   "metadata": {
    "collapsed": false
   },
   "outputs": [
    {
     "name": "stdout",
     "output_type": "stream",
     "text": [
      "Populating the interactive namespace from numpy and matplotlib\n"
     ]
    }
   ],
   "source": [
    "%pylab inline"
   ]
  },
  {
   "cell_type": "code",
   "execution_count": 2,
   "metadata": {
    "collapsed": true
   },
   "outputs": [],
   "source": [
    "import pandas as pd"
   ]
  },
  {
   "cell_type": "code",
   "execution_count": 3,
   "metadata": {
    "collapsed": true
   },
   "outputs": [],
   "source": [
    "koubei = pd.read_csv(\n",
    "    'data/ijcai2016_koubei_train'\n",
    "    , header=None, names=['user_id', 'merchant_id', 'location_id', 'timestamp']\n",
    "#     , dtype=str\n",
    "#     , parse_dates=[3]\n",
    "#     , nrows=10\n",
    ")"
   ]
  },
  {
   "cell_type": "code",
   "execution_count": 4,
   "metadata": {
    "collapsed": false
   },
   "outputs": [
    {
     "name": "stdout",
     "output_type": "stream",
     "text": [
      "Unique users: 230496\n",
      "Unique locations: 458\n",
      "Unique merchants: 5910\n"
     ]
    }
   ],
   "source": [
    "print('Unique users: %d' % koubei.user_id.nunique())\n",
    "print('Unique locations: %d' % koubei.location_id.nunique())\n",
    "print('Unique merchants: %d' % koubei.merchant_id.nunique())"
   ]
  },
  {
   "cell_type": "code",
   "execution_count": 5,
   "metadata": {
    "collapsed": true
   },
   "outputs": [],
   "source": [
    "taobao = pd.read_csv(\n",
    "    'data/ijcai2016_taobao'\n",
    "    , header=None, names=['user_id', 'seller_id', 'item_id', 'category_id', 'action_id', 'timestamp']\n",
    "#     , dtype=str\n",
    "#   , parse_dates=[5]\n",
    "#   , nrows=10\n",
    ")"
   ]
  },
  {
   "cell_type": "code",
   "execution_count": 7,
   "metadata": {
    "collapsed": false
   },
   "outputs": [
    {
     "name": "stdout",
     "output_type": "stream",
     "text": [
      "Unique users: 963923\n",
      "Unique sellers: 10000\n",
      "Unique items: 2353207\n",
      "Unique categories: 72\n"
     ]
    }
   ],
   "source": [
    "print('Unique users: %d' % taobao.user_id.nunique())\n",
    "print('Unique sellers: %d' % taobao.seller_id.nunique())\n",
    "print('Unique items: %d' % taobao.item_id.nunique())\n",
    "print('Unique categories: %d' % taobao.category_id.nunique())"
   ]
  },
  {
   "cell_type": "code",
   "execution_count": 8,
   "metadata": {
    "collapsed": true
   },
   "outputs": [],
   "source": [
    "pred = pd.read_csv('data/ijcai2016_koubei_test', header=None, names=['user_id', 'location_id'])"
   ]
  },
  {
   "cell_type": "code",
   "execution_count": 9,
   "metadata": {
    "collapsed": false
   },
   "outputs": [
    {
     "name": "stdout",
     "output_type": "stream",
     "text": [
      "Unique users: 465366\n",
      "Unique locations: 439\n"
     ]
    }
   ],
   "source": [
    "print('Unique users: %d' % pred.user_id.nunique())\n",
    "print('Unique locations: %d' % pred.location_id.nunique())"
   ]
  },
  {
   "cell_type": "markdown",
   "metadata": {},
   "source": [
    "# 测试集用户成分分析"
   ]
  },
  {
   "cell_type": "code",
   "execution_count": 10,
   "metadata": {
    "collapsed": true
   },
   "outputs": [],
   "source": [
    "kpuhit = pd.merge(koubei[['user_id']], pred[['user_id']], on='user_id')"
   ]
  },
  {
   "cell_type": "code",
   "execution_count": 11,
   "metadata": {
    "collapsed": false
   },
   "outputs": [
    {
     "name": "stdout",
     "output_type": "stream",
     "text": [
      "Unique users of koubei and prediction set: 50487\n",
      "Taking 10.85% of prediction set.\n"
     ]
    }
   ],
   "source": [
    "print('Unique users of koubei and prediction set: %d' % (kpuhit.user_id.nunique()))\n",
    "print('Taking %.2f%% of prediction set.' % (kpuhit.user_id.nunique() / float(pred.user_id.nunique()) * 100) )"
   ]
  },
  {
   "cell_type": "code",
   "execution_count": 12,
   "metadata": {
    "collapsed": false
   },
   "outputs": [],
   "source": [
    "bpuhit = pd.merge(taobao[['user_id']], pred[['user_id']], on='user_id')"
   ]
  },
  {
   "cell_type": "code",
   "execution_count": 13,
   "metadata": {
    "collapsed": false,
    "scrolled": true
   },
   "outputs": [
    {
     "name": "stdout",
     "output_type": "stream",
     "text": [
      "Unique users of taobao and prediction set: 366385\n",
      "Taking 78.73% of prediction set.\n"
     ]
    }
   ],
   "source": [
    "print('Unique users of taobao and prediction set: %d' % (bpuhit.user_id.nunique()))\n",
    "print('Taking %.2f%% of prediction set.' % (bpuhit.user_id.nunique() / float(pred.user_id.nunique()) * 100))"
   ]
  },
  {
   "cell_type": "markdown",
   "metadata": {},
   "source": [
    "------------"
   ]
  },
  {
   "cell_type": "code",
   "execution_count": 14,
   "metadata": {
    "collapsed": true
   },
   "outputs": [],
   "source": [
    "kbuhit = pd.merge(koubei[['user_id']], taobao[['user_id']], on='user_id')"
   ]
  },
  {
   "cell_type": "code",
   "execution_count": 15,
   "metadata": {
    "collapsed": false,
    "scrolled": true
   },
   "outputs": [
    {
     "name": "stdout",
     "output_type": "stream",
     "text": [
      "Unique users of koubei and taobao: 183566\n",
      "Taking 19.04% of taobao set.\n",
      "Taking 79.64% of koubei set.\n"
     ]
    }
   ],
   "source": [
    "print('Unique users of koubei and taobao: %d' % (kbuhit.user_id.nunique()))\n",
    "print('Taking %.2f%% of taobao set.' % (kbuhit.user_id.nunique() / float(taobao.user_id.nunique()) * 100))\n",
    "print('Taking %.2f%% of koubei set.' % (kbuhit.user_id.nunique() / float(koubei.user_id.nunique()) * 100))"
   ]
  },
  {
   "cell_type": "markdown",
   "metadata": {},
   "source": [
    "----------"
   ]
  },
  {
   "cell_type": "code",
   "execution_count": 16,
   "metadata": {
    "collapsed": true
   },
   "outputs": [],
   "source": [
    "pkbuhit = pd.merge(kbuhit, pred[['user_id']], on='user_id')"
   ]
  },
  {
   "cell_type": "code",
   "execution_count": 17,
   "metadata": {
    "collapsed": false
   },
   "outputs": [
    {
     "name": "stdout",
     "output_type": "stream",
     "text": [
      "Intersetion set of users of koubei, taobao and prediction set: 40853\n",
      "Taking 4.24% of taobao set.\n",
      "Taking 17.72% of koubei set.\n",
      "Taking 8.78% of prediction set.\n"
     ]
    }
   ],
   "source": [
    "print('Intersetion set of users of koubei, taobao and prediction set: %d' % (pkbuhit.user_id.nunique()))\n",
    "print('Taking %.2f%% of taobao set.' % (pkbuhit.user_id.nunique() / float(taobao.user_id.nunique()) * 100))\n",
    "print('Taking %.2f%% of koubei set.' % (pkbuhit.user_id.nunique() / float(koubei.user_id.nunique()) * 100))\n",
    "print('Taking %.2f%% of prediction set.' % (pkbuhit.user_id.nunique() / float(pred.user_id.nunique()) * 100))"
   ]
  },
  {
   "cell_type": "markdown",
   "metadata": {},
   "source": [
    "---------"
   ]
  },
  {
   "cell_type": "code",
   "execution_count": 18,
   "metadata": {
    "collapsed": true
   },
   "outputs": [],
   "source": [
    "kbuful = pd.merge(koubei[['user_id']], taobao[['user_id']], on='user_id', how='outer')"
   ]
  },
  {
   "cell_type": "code",
   "execution_count": 19,
   "metadata": {
    "collapsed": false
   },
   "outputs": [
    {
     "name": "stdout",
     "output_type": "stream",
     "text": [
      "Union set of users of koubei and taobao: 1010853\n"
     ]
    }
   ],
   "source": [
    "print('Union set of users of koubei and taobao: %d' % (kbuful.user_id.nunique()))"
   ]
  },
  {
   "cell_type": "code",
   "execution_count": 20,
   "metadata": {
    "collapsed": true
   },
   "outputs": [],
   "source": [
    "pkubfulhit = pd.merge(kbuful, pred[['user_id']], on='user_id')"
   ]
  },
  {
   "cell_type": "code",
   "execution_count": 21,
   "metadata": {
    "collapsed": false,
    "scrolled": false
   },
   "outputs": [
    {
     "name": "stdout",
     "output_type": "stream",
     "text": [
      "Intersection set of prediction set and users of koubei and taobao: 376019\n",
      "Taking 80.80% of prediction set.\n"
     ]
    }
   ],
   "source": [
    "print('Intersection set of prediction set and users of koubei and taobao: %d' % (pkubfulhit.user_id.nunique()))\n",
    "print('Taking %.2f%% of prediction set.' % (pkubfulhit.user_id.nunique() / float(pred.user_id.nunique()) * 100))"
   ]
  },
  {
   "cell_type": "markdown",
   "metadata": {},
   "source": [
    "# 测试集地理位置成分分析"
   ]
  },
  {
   "cell_type": "code",
   "execution_count": 22,
   "metadata": {
    "collapsed": true
   },
   "outputs": [],
   "source": [
    "kplhit = pd.merge(koubei[['location_id']].drop_duplicates(), pred[['location_id']].drop_duplicates(), on='location_id')"
   ]
  },
  {
   "cell_type": "code",
   "execution_count": 24,
   "metadata": {
    "collapsed": false
   },
   "outputs": [
    {
     "name": "stdout",
     "output_type": "stream",
     "text": [
      "Unique locations of koubei and prediction set: 434\n",
      "Taking 98.86% of prediction set.\n"
     ]
    }
   ],
   "source": [
    "print('Unique locations of koubei and prediction set: %d' % (kplhit.location_id.nunique()))\n",
    "print('Taking %.2f%% of prediction set.' % (kplhit.location_id.nunique() / float(pred.location_id.nunique()) * 100) )"
   ]
  },
  {
   "cell_type": "markdown",
   "metadata": {},
   "source": [
    "# 测试集中“用户-地理位置”的成分分析"
   ]
  },
  {
   "cell_type": "code",
   "execution_count": 25,
   "metadata": {
    "collapsed": true
   },
   "outputs": [],
   "source": [
    "kpulhit = pd.merge(\n",
    "    koubei[['user_id', 'location_id']].drop_duplicates(),\n",
    "    pred[['user_id', 'location_id']].drop_duplicates(),\n",
    "    on=['user_id', 'location_id'], how='inner'\n",
    ")"
   ]
  },
  {
   "cell_type": "code",
   "execution_count": 26,
   "metadata": {
    "collapsed": false
   },
   "outputs": [
    {
     "name": "stdout",
     "output_type": "stream",
     "text": [
      "Unique (user-location) pairs of koubei and prediction set: 91868\n",
      "Taking 9.70% of prediction set.\n"
     ]
    }
   ],
   "source": [
    "print('Unique (user-location) pairs of koubei and prediction set: %d' % (kpulhit.drop_duplicates().size))\n",
    "print('Taking %.2f%% of prediction set.' % (kpulhit.drop_duplicates().size / float(pred[['user_id', 'location_id']].drop_duplicates().size) * 100) )"
   ]
  }
 ],
 "metadata": {
  "kernelspec": {
   "display_name": "Python 2",
   "language": "python",
   "name": "python2"
  },
  "language_info": {
   "codemirror_mode": {
    "name": "ipython",
    "version": 2
   },
   "file_extension": ".py",
   "mimetype": "text/x-python",
   "name": "python",
   "nbconvert_exporter": "python",
   "pygments_lexer": "ipython2",
   "version": "2.7.11"
  }
 },
 "nbformat": 4,
 "nbformat_minor": 0
}
