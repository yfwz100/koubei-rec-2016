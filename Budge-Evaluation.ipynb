{
 "cells": [
  {
   "cell_type": "code",
   "execution_count": 1,
   "metadata": {
    "collapsed": false
   },
   "outputs": [
    {
     "name": "stdout",
     "output_type": "stream",
     "text": [
      "Populating the interactive namespace from numpy and matplotlib\n"
     ]
    }
   ],
   "source": [
    "%pylab inline"
   ]
  },
  {
   "cell_type": "code",
   "execution_count": 2,
   "metadata": {
    "collapsed": true
   },
   "outputs": [],
   "source": [
    "import pandas as pd"
   ]
  },
  {
   "cell_type": "code",
   "execution_count": 3,
   "metadata": {
    "collapsed": true
   },
   "outputs": [],
   "source": [
    "koubei = pd.read_csv(\n",
    "    'data/ijcai2016_koubei_train'\n",
    "    , header=None, names=['user_id', 'merchant_id', 'location_id', 'timestamp']\n",
    "#     , dtype=str\n",
    "#     , parse_dates=[3]\n",
    "#     , nrows=10\n",
    ")"
   ]
  },
  {
   "cell_type": "code",
   "execution_count": 4,
   "metadata": {
    "collapsed": true
   },
   "outputs": [],
   "source": [
    "pred = pd.read_csv('data/ijcai2016_koubei_test', header=None, names=['user_id', 'location_id'])"
   ]
  },
  {
   "cell_type": "code",
   "execution_count": 10,
   "metadata": {
    "collapsed": true
   },
   "outputs": [],
   "source": [
    "merchant = pd.read_csv('data/ijcai2016_merchant_info', header=None, names=['merchant_id', 'budge', 'locations'])"
   ]
  },
  {
   "cell_type": "markdown",
   "metadata": {},
   "source": [
    "# 从过去数据直接产生推荐"
   ]
  },
  {
   "cell_type": "code",
   "execution_count": 5,
   "metadata": {
    "collapsed": true
   },
   "outputs": [],
   "source": [
    "koubei_pred = pd.merge(\n",
    "    koubei[['user_id', 'location_id', 'merchant_id']].drop_duplicates(),\n",
    "    pred[['user_id', 'location_id']].drop_duplicates(),\n",
    "    on=['user_id', 'location_id'], how='inner'\n",
    ").drop_duplicates()"
   ]
  },
  {
   "cell_type": "markdown",
   "metadata": {},
   "source": [
    "产生地点和商店的关联"
   ]
  },
  {
   "cell_type": "markdown",
   "metadata": {},
   "source": [
    "# 根据地理位置和商铺的热点产生推荐"
   ]
  },
  {
   "cell_type": "code",
   "execution_count": 69,
   "metadata": {
    "collapsed": false
   },
   "outputs": [
    {
     "data": {
      "text/html": [
       "<div>\n",
       "<table border=\"1\" class=\"dataframe\">\n",
       "  <thead>\n",
       "    <tr style=\"text-align: right;\">\n",
       "      <th></th>\n",
       "      <th>merchant_id</th>\n",
       "      <th>location_id</th>\n",
       "      <th>heat</th>\n",
       "      <th>heat_rank</th>\n",
       "    </tr>\n",
       "  </thead>\n",
       "  <tbody>\n",
       "    <tr>\n",
       "      <th>0</th>\n",
       "      <td>1</td>\n",
       "      <td>30</td>\n",
       "      <td>41</td>\n",
       "      <td>8</td>\n",
       "    </tr>\n",
       "    <tr>\n",
       "      <th>3</th>\n",
       "      <td>4</td>\n",
       "      <td>257</td>\n",
       "      <td>94</td>\n",
       "      <td>1</td>\n",
       "    </tr>\n",
       "    <tr>\n",
       "      <th>4</th>\n",
       "      <td>6</td>\n",
       "      <td>175</td>\n",
       "      <td>112</td>\n",
       "      <td>2</td>\n",
       "    </tr>\n",
       "    <tr>\n",
       "      <th>5</th>\n",
       "      <td>7</td>\n",
       "      <td>446</td>\n",
       "      <td>35</td>\n",
       "      <td>10</td>\n",
       "    </tr>\n",
       "    <tr>\n",
       "      <th>7</th>\n",
       "      <td>10</td>\n",
       "      <td>446</td>\n",
       "      <td>128</td>\n",
       "      <td>7</td>\n",
       "    </tr>\n",
       "  </tbody>\n",
       "</table>\n",
       "</div>"
      ],
      "text/plain": [
       "   merchant_id  location_id  heat  heat_rank\n",
       "0            1           30    41          8\n",
       "3            4          257    94          1\n",
       "4            6          175   112          2\n",
       "5            7          446    35         10\n",
       "7           10          446   128          7"
      ]
     },
     "execution_count": 69,
     "metadata": {},
     "output_type": "execute_result"
    }
   ],
   "source": [
    "merchant_location = pd.DataFrame(dict(\n",
    "    heat = koubei.groupby(['merchant_id', 'location_id']).size()\n",
    ")).reset_index()\n",
    "merchant_location['heat_rank'] = merchant_location.groupby('location_id').heat.rank(ascending=False, method='first')\n",
    "mer_loc_rec = merchant_location[merchant_location.heat_rank <= 10]\n",
    "\n",
    "mer_loc_rec.head()"
   ]
  },
  {
   "cell_type": "code",
   "execution_count": 73,
   "metadata": {
    "collapsed": false
   },
   "outputs": [
    {
     "data": {
      "text/html": [
       "<div>\n",
       "<table border=\"1\" class=\"dataframe\">\n",
       "  <thead>\n",
       "    <tr style=\"text-align: right;\">\n",
       "      <th></th>\n",
       "      <th>user_id</th>\n",
       "      <th>location_id</th>\n",
       "    </tr>\n",
       "  </thead>\n",
       "  <tbody>\n",
       "    <tr>\n",
       "      <th>0</th>\n",
       "      <td>753792</td>\n",
       "      <td>112</td>\n",
       "    </tr>\n",
       "    <tr>\n",
       "      <th>1</th>\n",
       "      <td>1278336</td>\n",
       "      <td>178</td>\n",
       "    </tr>\n",
       "    <tr>\n",
       "      <th>2</th>\n",
       "      <td>1409408</td>\n",
       "      <td>461</td>\n",
       "    </tr>\n",
       "    <tr>\n",
       "      <th>3</th>\n",
       "      <td>492160</td>\n",
       "      <td>214</td>\n",
       "    </tr>\n",
       "    <tr>\n",
       "      <th>4</th>\n",
       "      <td>1671808</td>\n",
       "      <td>481</td>\n",
       "    </tr>\n",
       "  </tbody>\n",
       "</table>\n",
       "</div>"
      ],
      "text/plain": [
       "   user_id  location_id\n",
       "0   753792          112\n",
       "1  1278336          178\n",
       "2  1409408          461\n",
       "3   492160          214\n",
       "4  1671808          481"
      ]
     },
     "execution_count": 73,
     "metadata": {},
     "output_type": "execute_result"
    }
   ],
   "source": [
    "koubei_pred = koubei_pred.set_index(['user_id', 'location_id'])\n",
    "pred = pred.set_index(['user_id', 'location_id'])\n",
    "remain_pred = pred[~pred.index.isin(koubei_pred.index)].reset_index()\n",
    "\n",
    "remain_pred.head()"
   ]
  },
  {
   "cell_type": "code",
   "execution_count": 74,
   "metadata": {
    "collapsed": false
   },
   "outputs": [
    {
     "data": {
      "text/html": [
       "<div>\n",
       "<table border=\"1\" class=\"dataframe\">\n",
       "  <thead>\n",
       "    <tr style=\"text-align: right;\">\n",
       "      <th></th>\n",
       "      <th>user_id</th>\n",
       "      <th>location_id</th>\n",
       "      <th>merchant_id</th>\n",
       "    </tr>\n",
       "  </thead>\n",
       "  <tbody>\n",
       "    <tr>\n",
       "      <th>0</th>\n",
       "      <td>753792</td>\n",
       "      <td>112</td>\n",
       "      <td>571</td>\n",
       "    </tr>\n",
       "    <tr>\n",
       "      <th>1</th>\n",
       "      <td>753792</td>\n",
       "      <td>112</td>\n",
       "      <td>820</td>\n",
       "    </tr>\n",
       "    <tr>\n",
       "      <th>2</th>\n",
       "      <td>753792</td>\n",
       "      <td>112</td>\n",
       "      <td>2294</td>\n",
       "    </tr>\n",
       "    <tr>\n",
       "      <th>3</th>\n",
       "      <td>753792</td>\n",
       "      <td>112</td>\n",
       "      <td>5095</td>\n",
       "    </tr>\n",
       "    <tr>\n",
       "      <th>4</th>\n",
       "      <td>753792</td>\n",
       "      <td>112</td>\n",
       "      <td>5231</td>\n",
       "    </tr>\n",
       "  </tbody>\n",
       "</table>\n",
       "</div>"
      ],
      "text/plain": [
       "   user_id  location_id  merchant_id\n",
       "0   753792          112          571\n",
       "1   753792          112          820\n",
       "2   753792          112         2294\n",
       "3   753792          112         5095\n",
       "4   753792          112         5231"
      ]
     },
     "execution_count": 74,
     "metadata": {},
     "output_type": "execute_result"
    }
   ],
   "source": [
    "remain_loc_pred = pd.merge(\n",
    "    remain_pred,\n",
    "    mer_loc_rec[['merchant_id', 'location_id']],\n",
    "    on='location_id'\n",
    ")\n",
    "\n",
    "remain_loc_pred.head()"
   ]
  },
  {
   "cell_type": "code",
   "execution_count": 153,
   "metadata": {
    "collapsed": false
   },
   "outputs": [],
   "source": [
    "rmdf = pd.merge(\n",
    "    remain_loc_pred[['user_id', 'location_id']].drop_duplicates(),\n",
    "    merchant_location,\n",
    "    on='location_id', how='left'\n",
    ")\n",
    "rmdf.set_index('user_id').to_csv('data/koubei_test_remain')"
   ]
  },
  {
   "cell_type": "code",
   "execution_count": 83,
   "metadata": {
    "collapsed": false
   },
   "outputs": [],
   "source": [
    "s = pd.concat(\n",
    "    [koubei_pred.reset_index(), remain_loc_pred]\n",
    ").groupby(['user_id', 'location_id']).agg(lambda d: ':'.join([str(i) for i in d]))"
   ]
  },
  {
   "cell_type": "code",
   "execution_count": 85,
   "metadata": {
    "collapsed": false,
    "scrolled": true
   },
   "outputs": [
    {
     "data": {
      "text/html": [
       "<div>\n",
       "<table border=\"1\" class=\"dataframe\">\n",
       "  <thead>\n",
       "    <tr style=\"text-align: right;\">\n",
       "      <th></th>\n",
       "      <th></th>\n",
       "      <th>merchant_id</th>\n",
       "    </tr>\n",
       "    <tr>\n",
       "      <th>user_id</th>\n",
       "      <th>location_id</th>\n",
       "      <th></th>\n",
       "    </tr>\n",
       "  </thead>\n",
       "  <tbody>\n",
       "    <tr>\n",
       "      <th>2</th>\n",
       "      <th>132</th>\n",
       "      <td>448:560:1014:1988:2132:2606:4007:4450:6613:6756</td>\n",
       "    </tr>\n",
       "    <tr>\n",
       "      <th>5</th>\n",
       "      <th>371</th>\n",
       "      <td>3506:4264:5231:6388:7075:9167</td>\n",
       "    </tr>\n",
       "    <tr>\n",
       "      <th>8</th>\n",
       "      <th>362</th>\n",
       "      <td>735:2340:2982:3261:3651:4856:6060:6401:9359:9485</td>\n",
       "    </tr>\n",
       "    <tr>\n",
       "      <th>17</th>\n",
       "      <th>11</th>\n",
       "      <td>177:3772:4049:4335:4388:5049:5239:8405:8817:9974</td>\n",
       "    </tr>\n",
       "    <tr>\n",
       "      <th>19</th>\n",
       "      <th>6</th>\n",
       "      <td>171:365:820:2606:4264:5231:7249:7834:8335:9485</td>\n",
       "    </tr>\n",
       "  </tbody>\n",
       "</table>\n",
       "</div>"
      ],
      "text/plain": [
       "                                                          merchant_id\n",
       "user_id location_id                                                  \n",
       "2       132           448:560:1014:1988:2132:2606:4007:4450:6613:6756\n",
       "5       371                             3506:4264:5231:6388:7075:9167\n",
       "8       362          735:2340:2982:3261:3651:4856:6060:6401:9359:9485\n",
       "17      11           177:3772:4049:4335:4388:5049:5239:8405:8817:9974\n",
       "19      6              171:365:820:2606:4264:5231:7249:7834:8335:9485"
      ]
     },
     "execution_count": 85,
     "metadata": {},
     "output_type": "execute_result"
    }
   ],
   "source": [
    "s.head()"
   ]
  },
  {
   "cell_type": "code",
   "execution_count": 86,
   "metadata": {
    "collapsed": true
   },
   "outputs": [],
   "source": [
    "s.to_csv('submit/0425_locrec.csv')"
   ]
  },
  {
   "cell_type": "markdown",
   "metadata": {},
   "source": [
    "# 评估预算"
   ]
  },
  {
   "cell_type": "markdown",
   "metadata": {},
   "source": [
    "获取商铺剩余的预算"
   ]
  },
  {
   "cell_type": "code",
   "execution_count": 87,
   "metadata": {
    "collapsed": true
   },
   "outputs": [],
   "source": [
    "all_pred = pd.concat(\n",
    "    [koubei_pred.reset_index(), remain_loc_pred]\n",
    ").drop_duplicates()"
   ]
  },
  {
   "cell_type": "code",
   "execution_count": 88,
   "metadata": {
    "collapsed": false,
    "scrolled": true
   },
   "outputs": [
    {
     "data": {
      "text/html": [
       "<div>\n",
       "<table border=\"1\" class=\"dataframe\">\n",
       "  <thead>\n",
       "    <tr style=\"text-align: right;\">\n",
       "      <th></th>\n",
       "      <th>budge</th>\n",
       "      <th>used</th>\n",
       "      <th>remain</th>\n",
       "    </tr>\n",
       "    <tr>\n",
       "      <th>merchant_id</th>\n",
       "      <th></th>\n",
       "      <th></th>\n",
       "      <th></th>\n",
       "    </tr>\n",
       "  </thead>\n",
       "  <tbody>\n",
       "    <tr>\n",
       "      <th>1</th>\n",
       "      <td>100</td>\n",
       "      <td>420</td>\n",
       "      <td>-320</td>\n",
       "    </tr>\n",
       "    <tr>\n",
       "      <th>2</th>\n",
       "      <td>734</td>\n",
       "      <td>4</td>\n",
       "      <td>730</td>\n",
       "    </tr>\n",
       "    <tr>\n",
       "      <th>3</th>\n",
       "      <td>100</td>\n",
       "      <td>6</td>\n",
       "      <td>94</td>\n",
       "    </tr>\n",
       "    <tr>\n",
       "      <th>4</th>\n",
       "      <td>100</td>\n",
       "      <td>83</td>\n",
       "      <td>17</td>\n",
       "    </tr>\n",
       "    <tr>\n",
       "      <th>6</th>\n",
       "      <td>100</td>\n",
       "      <td>44</td>\n",
       "      <td>56</td>\n",
       "    </tr>\n",
       "  </tbody>\n",
       "</table>\n",
       "</div>"
      ],
      "text/plain": [
       "             budge  used  remain\n",
       "merchant_id                     \n",
       "1              100   420    -320\n",
       "2              734     4     730\n",
       "3              100     6      94\n",
       "4              100    83      17\n",
       "6              100    44      56"
      ]
     },
     "execution_count": 88,
     "metadata": {},
     "output_type": "execute_result"
    }
   ],
   "source": [
    "merchant_budge = pd.DataFrame(dict(\n",
    "    used=all_pred.groupby('merchant_id').size(),\n",
    "    budge=merchant.set_index('merchant_id').budge\n",
    ")).fillna(0)\n",
    "merchant_budge['remain'] = merchant_budge.budge - merchant_budge.used\n",
    "merchant_budge.head()"
   ]
  },
  {
   "cell_type": "code",
   "execution_count": 89,
   "metadata": {
    "collapsed": false,
    "scrolled": false
   },
   "outputs": [
    {
     "name": "stdout",
     "output_type": "stream",
     "text": [
      "True\n"
     ]
    }
   ],
   "source": [
    "print(len(merchant_budge) == len(merchant))"
   ]
  },
  {
   "cell_type": "code",
   "execution_count": 184,
   "metadata": {
    "collapsed": false,
    "scrolled": true
   },
   "outputs": [
    {
     "name": "stdout",
     "output_type": "stream",
     "text": [
      "预算超额：3354508\n",
      "总预算：1565344\n",
      "比例：27.43%\n",
      "口碑转化预算：63171\n"
     ]
    }
   ],
   "source": [
    "print('预算超额：%d' % -merchant_budge[merchant_budge.remain<0].remain.sum())\n",
    "print('总预算：%d' % merchant_budge.budge.sum())\n",
    "print('比例：%.2f%%' % (len(merchant_budge[merchant_budge.remain<0]) / float(len(merchant_budge)) * 100))\n",
    "print('口碑转化预算：%d' % koubei_pred.groupby('merchant_id').size().sum())"
   ]
  },
  {
   "cell_type": "markdown",
   "metadata": {},
   "source": [
    "实际预算和给定预算的比较"
   ]
  },
  {
   "cell_type": "code",
   "execution_count": 166,
   "metadata": {
    "collapsed": true
   },
   "outputs": [],
   "source": [
    "koubei = koubei.reset_index()"
   ]
  },
  {
   "cell_type": "code",
   "execution_count": 173,
   "metadata": {
    "collapsed": false
   },
   "outputs": [],
   "source": [
    "pred = pred.reset_index()"
   ]
  },
  {
   "cell_type": "code",
   "execution_count": 175,
   "metadata": {
    "collapsed": false
   },
   "outputs": [],
   "source": [
    "koubei11 = pd.DataFrame(dict(\n",
    "    used=koubei[koubei.timestamp.between(20151101,20151130) & koubei.location_id.isin(pred.location_id)].drop_duplicates().groupby('merchant_id').size(),\n",
    "    budge=merchant.set_index('merchant_id').budge\n",
    ")).fillna(0)"
   ]
  },
  {
   "cell_type": "code",
   "execution_count": 176,
   "metadata": {
    "collapsed": true
   },
   "outputs": [],
   "source": [
    "koubei10 = pd.DataFrame(dict(\n",
    "    used=koubei[koubei.timestamp.between(20151001,20151031) & koubei.location_id.isin(pred.location_id)].drop_duplicates().groupby('merchant_id').size(),\n",
    "    budge=merchant.set_index('merchant_id').budge\n",
    ")).fillna(0)"
   ]
  },
  {
   "cell_type": "code",
   "execution_count": 177,
   "metadata": {
    "collapsed": true
   },
   "outputs": [],
   "source": [
    "koubei09 = pd.DataFrame(dict(\n",
    "    used=koubei[koubei.timestamp.between(20150901,20150930) & koubei.location_id.isin(pred.location_id)].drop_duplicates().groupby('merchant_id').size(),\n",
    "    budge=merchant.set_index('merchant_id').budge\n",
    ")).fillna(0)"
   ]
  },
  {
   "cell_type": "code",
   "execution_count": 178,
   "metadata": {
    "collapsed": true
   },
   "outputs": [],
   "source": [
    "koubei08 = pd.DataFrame(dict(\n",
    "    used=koubei[koubei.timestamp.between(20150801,20150831) & koubei.location_id.isin(pred.location_id)].drop_duplicates().groupby('merchant_id').size(),\n",
    "    budge=merchant.set_index('merchant_id').budge\n",
    ")).fillna(0)"
   ]
  },
  {
   "cell_type": "code",
   "execution_count": 179,
   "metadata": {
    "collapsed": true
   },
   "outputs": [],
   "source": [
    "koubei07 = pd.DataFrame(dict(\n",
    "    used=koubei[koubei.timestamp.between(20150701,20150731) & koubei.location_id.isin(pred.location_id)].drop_duplicates().groupby('merchant_id').size(),\n",
    "    budge=merchant.set_index('merchant_id').budge\n",
    ")).fillna(0)"
   ]
  },
  {
   "cell_type": "code",
   "execution_count": 180,
   "metadata": {
    "collapsed": false,
    "scrolled": false
   },
   "outputs": [
    {
     "data": {
      "image/png": "[encoded data removed]",
      "text/plain": [
       "<matplotlib.figure.Figure at 0x10a898890>"
      ]
     },
     "metadata": {},
     "output_type": "display_data"
    }
   ],
   "source": [
    "subplot(511); koubei11.used.plot(figsize=(18, 20));\n",
    "subplot(512); koubei10.used.plot(figsize=(18, 20));\n",
    "subplot(513); koubei09.used.plot(figsize=(18, 20));\n",
    "subplot(514); koubei08.used.plot(figsize=(18, 20));\n",
    "subplot(515); koubei07.used.plot(figsize=(18, 20));"
   ]
  },
  {
   "cell_type": "code",
   "execution_count": 181,
   "metadata": {
    "collapsed": false
   },
   "outputs": [
    {
     "data": {
      "image/png": "[encoded data removed]",
      "text/plain": [
       "<matplotlib.figure.Figure at 0x10fa47e10>"
      ]
     },
     "metadata": {},
     "output_type": "display_data"
    }
   ],
   "source": [
    "subplot(151); koubei11[koubei11.used>0].sum().plot.pie(figsize=(20, 4), title='Nov.', autopct='%.2f%%', legend=True);\n",
    "subplot(152); koubei10[koubei10.used>0].sum().plot.pie(figsize=(20, 4), title='Oct.', autopct='%.2f%%', legend=True);\n",
    "subplot(153); koubei09[koubei09.used>0].sum().plot.pie(figsize=(20, 4), title='Sep.', autopct='%.2f%%', legend=True);\n",
    "subplot(154); koubei08[koubei08.used>0].sum().plot.pie(figsize=(20, 4), title='Aug.', autopct='%.2f%%', legend=True);\n",
    "subplot(155); koubei07[koubei07.used>0].sum().plot.pie(figsize=(20, 4), title='Jul.', autopct='%.2f%%', legend=True);"
   ]
  },
  {
   "cell_type": "code",
   "execution_count": 182,
   "metadata": {
    "collapsed": false,
    "scrolled": true
   },
   "outputs": [
    {
     "name": "stdout",
     "output_type": "stream",
     "text": [
      "Nov.: merchants not used: 985\n",
      "Oct.: merchants not used: 2457\n",
      "Sep.: merchants not used: 3971\n",
      "Aug.: merchants not used: 4672\n",
      "Jul.: merchants not used: 5260\n"
     ]
    }
   ],
   "source": [
    "print('Nov.: merchants not used: %d' % (len(koubei11[koubei11.used==0])))\n",
    "print('Oct.: merchants not used: %d' % (len(koubei10[koubei10.used==0])))\n",
    "print('Sep.: merchants not used: %d' % (len(koubei09[koubei09.used==0])))\n",
    "print('Aug.: merchants not used: %d' % (len(koubei08[koubei08.used==0])))\n",
    "print('Jul.: merchants not used: %d' % (len(koubei07[koubei07.used==0])))"
   ]
  },
  {
   "cell_type": "code",
   "execution_count": 183,
   "metadata": {
    "collapsed": false
   },
   "outputs": [
    {
     "name": "stdout",
     "output_type": "stream",
     "text": [
      "Nov.: beyond budge: 189\n",
      "Oct.: beyond budge: 287\n",
      "Sep.: beyond budge: 20\n",
      "Aug.: beyond budge: 8\n",
      "Jul.: beyond budge: 1\n"
     ]
    }
   ],
   "source": [
    "print('Nov.: beyond budge: %d' % len(koubei11[koubei11.used>koubei11.budge]))\n",
    "print('Oct.: beyond budge: %d' % len(koubei10[koubei10.used>koubei10.budge]))\n",
    "print('Sep.: beyond budge: %d' % len(koubei09[koubei09.used>koubei10.budge]))\n",
    "print('Aug.: beyond budge: %d' % len(koubei08[koubei08.used>koubei10.budge]))\n",
    "print('Jul.: beyond budge: %d' % len(koubei07[koubei07.used>koubei10.budge]))"
   ]
  },
  {
   "cell_type": "code",
   "execution_count": 151,
   "metadata": {
    "collapsed": false
   },
   "outputs": [
    {
     "name": "stdout",
     "output_type": "stream",
     "text": [
      "Nov.: ratio of merchants beyond budge: 3.81%\n"
     ]
    }
   ],
   "source": [
    "print('Nov.: ratio of merchants beyond budge: %.2f%%' % (len(koubei11[koubei11.used>koubei11.budge]) / float(len(koubei11[koubei11.used>0])) * 100))"
   ]
  },
  {
   "cell_type": "markdown",
   "metadata": {},
   "source": [
    "输出前两个月的参考预算"
   ]
  },
  {
   "cell_type": "code",
   "execution_count": 188,
   "metadata": {
    "collapsed": false
   },
   "outputs": [
    {
     "data": {
      "text/html": [
       "<div>\n",
       "<table border=\"1\" class=\"dataframe\">\n",
       "  <thead>\n",
       "    <tr style=\"text-align: right;\">\n",
       "      <th></th>\n",
       "      <th>merchant_id</th>\n",
       "      <th>budge</th>\n",
       "      <th>used_11</th>\n",
       "      <th>used_10</th>\n",
       "    </tr>\n",
       "  </thead>\n",
       "  <tbody>\n",
       "    <tr>\n",
       "      <th>0</th>\n",
       "      <td>128</td>\n",
       "      <td>331</td>\n",
       "      <td>309</td>\n",
       "      <td>1266</td>\n",
       "    </tr>\n",
       "    <tr>\n",
       "      <th>1</th>\n",
       "      <td>3712</td>\n",
       "      <td>100</td>\n",
       "      <td>1</td>\n",
       "      <td>0</td>\n",
       "    </tr>\n",
       "    <tr>\n",
       "      <th>2</th>\n",
       "      <td>1409</td>\n",
       "      <td>100</td>\n",
       "      <td>4</td>\n",
       "      <td>0</td>\n",
       "    </tr>\n",
       "    <tr>\n",
       "      <th>3</th>\n",
       "      <td>3201</td>\n",
       "      <td>100</td>\n",
       "      <td>5</td>\n",
       "      <td>9</td>\n",
       "    </tr>\n",
       "    <tr>\n",
       "      <th>4</th>\n",
       "      <td>8577</td>\n",
       "      <td>100</td>\n",
       "      <td>28</td>\n",
       "      <td>6</td>\n",
       "    </tr>\n",
       "  </tbody>\n",
       "</table>\n",
       "</div>"
      ],
      "text/plain": [
       "   merchant_id  budge  used_11  used_10\n",
       "0          128    331      309     1266\n",
       "1         3712    100        1        0\n",
       "2         1409    100        4        0\n",
       "3         3201    100        5        9\n",
       "4         8577    100       28        6"
      ]
     },
     "execution_count": 188,
     "metadata": {},
     "output_type": "execute_result"
    }
   ],
   "source": [
    "merchant_recent_budge = pd.merge(\n",
    "    merchant[['merchant_id', 'budge']],\n",
    "    pd.merge(\n",
    "        koubei11.reset_index()[['merchant_id', 'used']], koubei10.reset_index()[['merchant_id', 'used']],\n",
    "        on='merchant_id', suffixes=('_11', '_10')\n",
    "    ),\n",
    "    on='merchant_id'\n",
    ").set_index('merchant_id')\n",
    "merchant_recent_budge[''] = merchant_recent_budge.apply(lambda g: min(g[0], max(g[1], g[2])), axis=1)\n",
    "merchant_recent_budge.to_csv('data/merchant_recent_budge.csv')\n",
    "merchant_recent_budge.head()"
   ]
  },
  {
   "cell_type": "code",
   "execution_count": 191,
   "metadata": {
    "collapsed": false
   },
   "outputs": [
    {
     "data": {
      "image/png": "[encoded data removed]",
      "text/plain": [
       "<matplotlib.figure.Figure at 0x11382ac90>"
      ]
     },
     "metadata": {},
     "output_type": "display_data"
    }
   ],
   "source": [
    "merchant_recent_budge[['budge', 'used_11', 'used_10']].sum().plot.pie(autopct='%.2f%%');"
   ]
  },
  {
   "cell_type": "code",
   "execution_count": 193,
   "metadata": {
    "collapsed": false
   },
   "outputs": [
    {
     "data": {
      "text/html": [
       "<div>\n",
       "<table border=\"1\" class=\"dataframe\">\n",
       "  <thead>\n",
       "    <tr style=\"text-align: right;\">\n",
       "      <th></th>\n",
       "      <th>merchant_id</th>\n",
       "      <th>budge</th>\n",
       "      <th>used_11</th>\n",
       "      <th>used_10</th>\n",
       "    </tr>\n",
       "  </thead>\n",
       "  <tbody>\n",
       "    <tr>\n",
       "      <th>2164</th>\n",
       "      <td>1</td>\n",
       "      <td>100</td>\n",
       "      <td>38</td>\n",
       "      <td>1</td>\n",
       "    </tr>\n",
       "  </tbody>\n",
       "</table>\n",
       "</div>"
      ],
      "text/plain": [
       "      merchant_id  budge  used_11  used_10\n",
       "2164            1    100       38        1"
      ]
     },
     "execution_count": 193,
     "metadata": {},
     "output_type": "execute_result"
    }
   ],
   "source": [
    "merchant_recent_budge[merchant_recent_budge.merchant_id==1]"
   ]
  },
  {
   "cell_type": "code",
   "execution_count": 212,
   "metadata": {
    "collapsed": false,
    "scrolled": true
   },
   "outputs": [
    {
     "data": {
      "text/plain": [
       "0        128\n",
       "1        100\n",
       "2        100\n",
       "3        100\n",
       "4        100\n",
       "5        100\n",
       "6       1735\n",
       "7        100\n",
       "8        100\n",
       "9        100\n",
       "10       154\n",
       "11       100\n",
       "12       100\n",
       "13       100\n",
       "14       100\n",
       "15       100\n",
       "16       445\n",
       "17       100\n",
       "18       100\n",
       "19       100\n",
       "20       100\n",
       "21       100\n",
       "22       132\n",
       "23       100\n",
       "24       514\n",
       "25       100\n",
       "26       271\n",
       "27       100\n",
       "28       100\n",
       "29       100\n",
       "        ... \n",
       "5880     100\n",
       "5881     100\n",
       "5882     100\n",
       "5883     100\n",
       "5884     100\n",
       "5885     100\n",
       "5886     100\n",
       "5887     100\n",
       "5888     100\n",
       "5889     100\n",
       "5890     100\n",
       "5891     100\n",
       "5892     100\n",
       "5893     100\n",
       "5894     100\n",
       "5895     100\n",
       "5896     100\n",
       "5897     100\n",
       "5898     100\n",
       "5899     100\n",
       "5900     100\n",
       "5901     100\n",
       "5902     100\n",
       "5903     100\n",
       "5904     100\n",
       "5905     100\n",
       "5906     100\n",
       "5907     100\n",
       "5908     100\n",
       "5909     100\n",
       "dtype: float64"
      ]
     },
     "execution_count": 212,
     "metadata": {},
     "output_type": "execute_result"
    }
   ],
   "source": [
    "merchant_recent_budge.set_index('merchant_id').apply(lambda g: min(g[0], max(g[1], g[2])), axis=1)"
   ]
  },
  {
   "cell_type": "code",
   "execution_count": null,
   "metadata": {
    "collapsed": true
   },
   "outputs": [],
   "source": [
    "merchant_recent_budge"
   ]
  }
 ],
 "metadata": {
  "kernelspec": {
   "display_name": "Python 2",
   "language": "python",
   "name": "python2"
  },
  "language_info": {
   "codemirror_mode": {
    "name": "ipython",
    "version": 2
   },
   "file_extension": ".py",
   "mimetype": "text/x-python",
   "name": "python",
   "nbconvert_exporter": "python",
   "pygments_lexer": "ipython2",
   "version": "2.7.11"
  }
 },
 "nbformat": 4,
 "nbformat_minor": 0
}
