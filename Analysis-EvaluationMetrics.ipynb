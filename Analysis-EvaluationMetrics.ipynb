{
 "cells": [
  {
   "cell_type": "code",
   "execution_count": 1,
   "metadata": {
    "collapsed": false
   },
   "outputs": [
    {
     "name": "stderr",
     "output_type": "stream",
     "text": [
      "/usr/local/lib/python2.7/site-packages/matplotlib/font_manager.py:273: UserWarning: Matplotlib is building the font cache using fc-list. This may take a moment.\n",
      "  warnings.warn('Matplotlib is building the font cache using fc-list. This may take a moment.')\n"
     ]
    },
    {
     "name": "stdout",
     "output_type": "stream",
     "text": [
      "Populating the interactive namespace from numpy and matplotlib\n"
     ]
    }
   ],
   "source": [
    "%pylab inline"
   ]
  },
  {
   "cell_type": "code",
   "execution_count": 2,
   "metadata": {
    "collapsed": true
   },
   "outputs": [],
   "source": [
    "import pandas as pd"
   ]
  },
  {
   "cell_type": "code",
   "execution_count": 3,
   "metadata": {
    "collapsed": true
   },
   "outputs": [],
   "source": [
    "koubei = pd.read_csv(\n",
    "    'data/ijcai2016_koubei_train', header=None, names=['user_id', 'merchant_id', 'location_id', 'timestamp']\n",
    ")"
   ]
  },
  {
   "cell_type": "code",
   "execution_count": 9,
   "metadata": {
    "collapsed": true
   },
   "outputs": [],
   "source": [
    "pred = pd.read_csv('data/ijcai2016_koubei_test', header=None, names=['user_id', 'location_id'])"
   ]
  },
  {
   "cell_type": "code",
   "execution_count": 14,
   "metadata": {
    "collapsed": true
   },
   "outputs": [],
   "source": [
    "merchant = pd.read_csv('data/ijcai2016_merchant_info', header=None, names=['merchant_id', 'budget', 'locations'])"
   ]
  },
  {
   "cell_type": "markdown",
   "metadata": {},
   "source": [
    "# 生成测试数据\n",
    "\n",
    "这里只取“预测集”里的和之前月份取交集的用户作为测试。因为给定的集合实际上由**线上、线下**两部分组成，因此，很难组合出和实际预测集相近的验证集。这样的话，虽然和实际情况并不相符，但是可以理解整个计算过程。"
   ]
  },
  {
   "cell_type": "markdown",
   "metadata": {},
   "source": [
    "取 10 月份的口碑记录，作为假想的预测集。"
   ]
  },
  {
   "cell_type": "code",
   "execution_count": 7,
   "metadata": {
    "collapsed": true
   },
   "outputs": [],
   "source": [
    "koubei10 = koubei[koubei.timestamp.between(20151001, 20151031)]"
   ]
  },
  {
   "cell_type": "markdown",
   "metadata": {},
   "source": [
    "取 11 月份的口碑记录，作为预测集对照的实际集。"
   ]
  },
  {
   "cell_type": "code",
   "execution_count": 5,
   "metadata": {
    "collapsed": true
   },
   "outputs": [],
   "source": [
    "koubei11 = koubei[koubei.timestamp.between(20151101, 20151131)]"
   ]
  },
  {
   "cell_type": "markdown",
   "metadata": {},
   "source": [
    "统计相关的数据。"
   ]
  },
  {
   "cell_type": "code",
   "execution_count": 11,
   "metadata": {
    "collapsed": false
   },
   "outputs": [
    {
     "name": "stdout",
     "output_type": "stream",
     "text": [
      "Oct. no. of users: 116413\n",
      "Nov. no. of users: 158544\n",
      "Old users in Nov.: 67522 (42.59%)\n"
     ]
    }
   ],
   "source": [
    "print('Oct. no. of users: %d' % (koubei10.user_id.nunique()))\n",
    "print('Nov. no. of users: %d' % (koubei11.user_id.nunique()))\n",
    "print('Old users in Nov.: %d (%.2f%%)' % (\n",
    "    koubei11[koubei11.user_id.isin(koubei10.user_id)].user_id.nunique(),\n",
    "    koubei11[koubei11.user_id.isin(koubei10.user_id)].user_id.nunique() / float(koubei11.user_id.nunique()) * 100\n",
    "))"
   ]
  },
  {
   "cell_type": "markdown",
   "metadata": {},
   "source": [
    "与实际数据对比。"
   ]
  },
  {
   "cell_type": "code",
   "execution_count": 12,
   "metadata": {
    "collapsed": false,
    "scrolled": true
   },
   "outputs": [
    {
     "name": "stdout",
     "output_type": "stream",
     "text": [
      "Dec. no. of users: 465366\n",
      "Nov. no. of users: 158544\n",
      "Old users in Dec.: 37838 (8.13%)\n"
     ]
    }
   ],
   "source": [
    "print('Dec. no. of users: %d' % pred.user_id.nunique())\n",
    "print('Nov. no. of users: %d' % koubei11.user_id.nunique())\n",
    "print('Old users in Dec.: %d (%.2f%%)' % (\n",
    "    pred[pred.user_id.isin(koubei11.user_id)].user_id.nunique(),\n",
    "    pred[pred.user_id.isin(koubei11.user_id)].user_id.nunique() / float(pred.user_id.nunique()) * 100\n",
    "))"
   ]
  },
  {
   "cell_type": "markdown",
   "metadata": {},
   "source": [
    "这里存在两个假设：\n",
    "\n",
    "1. 给定的预测集里并非所有用户都有购买行为；\n",
    "2. 给定的训练集的样本太小。"
   ]
  },
  {
   "cell_type": "markdown",
   "metadata": {},
   "source": [
    "计算 10 月预测 11 月的 F1 值。"
   ]
  },
  {
   "cell_type": "code",
   "execution_count": 84,
   "metadata": {
    "collapsed": false
   },
   "outputs": [],
   "source": [
    "def evaluate(pset, aset):\n",
    "    ''' \n",
    "    pset is the predicted set.\n",
    "    aset is the actual set.\n",
    "    '''\n",
    "    pset = pset[['user_id', 'location_id', 'merchant_id']].drop_duplicates()\n",
    "    aset = aset[['user_id', 'location_id', 'merchant_id']].drop_duplicates()\n",
    "    pset = pd.merge(pset, aset[['user_id', 'location_id']], on=['user_id', 'location_id'], how='inner')\n",
    "    hit = pd.merge(aset, pset, on=['user_id', 'location_id', 'merchant_id'], how=\"inner\").drop_duplicates()\n",
    "    a = pd.merge(\n",
    "        merchant[['merchant_id', 'budget']],\n",
    "        hit.groupby('merchant_id').user_id.count().reset_index(),\n",
    "        on='merchant_id', how='inner'\n",
    "    ).apply(lambda d: min(d['budget'], d['user_id']), axis=1).sum()\n",
    "    b = pd.merge(\n",
    "        merchant[['merchant_id', 'budget']],\n",
    "        aset.groupby('merchant_id').user_id.count().reset_index(),\n",
    "        on='merchant_id', how='inner'\n",
    "    ).apply(lambda d: min(d['budget'], d['user_id']), axis=1).sum()\n",
    "    c = pset.groupby('merchant_id').user_id.count().sum()\n",
    "    print a, b, c\n",
    "    p = a / float(c)\n",
    "    r = a / float(b)\n",
    "    print('Predict: %.2f%%' % (p * 100))\n",
    "    print('Recall: %.2f%%'  % (r * 100))\n",
    "    return 2 * p * r / (p + r)"
   ]
  },
  {
   "cell_type": "markdown",
   "metadata": {},
   "source": [
    "测试 10 月预测 11 月的测评（纯口碑数据）。"
   ]
  },
  {
   "cell_type": "code",
   "execution_count": 85,
   "metadata": {
    "collapsed": false,
    "scrolled": true
   },
   "outputs": [
    {
     "name": "stdout",
     "output_type": "stream",
     "text": [
      "52274 161186 110218\n",
      "Predict: 47.43%\n",
      "Recall: 32.43%\n"
     ]
    },
    {
     "data": {
      "text/plain": [
       "0.3852117139025217"
      ]
     },
     "execution_count": 85,
     "metadata": {},
     "output_type": "execute_result"
    }
   ],
   "source": [
    "evaluate(koubei10, koubei11)"
   ]
  },
  {
   "cell_type": "code",
   "execution_count": 86,
   "metadata": {
    "collapsed": false,
    "scrolled": true
   },
   "outputs": [
    {
     "name": "stdout",
     "output_type": "stream",
     "text": [
      "57818 161186 130119\n",
      "Predict: 44.43%\n",
      "Recall: 35.87%\n"
     ]
    },
    {
     "data": {
      "text/plain": [
       "0.3969585142719829"
      ]
     },
     "execution_count": 86,
     "metadata": {},
     "output_type": "execute_result"
    }
   ],
   "source": [
    "evaluate(\n",
    "    koubei[koubei.timestamp.between(20150701, 20151031)],\n",
    "    koubei11\n",
    ")"
   ]
  },
  {
   "cell_type": "markdown",
   "metadata": {},
   "source": [
    "基本可以得出两个结论：\n",
    "\n",
    "1. 给定的训练集的样本太小，基本没有淘宝中转化的 → 要挖掘这部分用户依靠这部分数据的作用可能很有限；\n",
    "2. 预测准确率并没有以前想的那么高，只有大概 60% 。\n",
    "\n",
    "由此可以推出之前的**预测准确率并没有那么高，反而召回率比较高**，因此，增加热门地点搜索以后对拉高召回率帮助不大，而准确率上下降太多了。"
   ]
  },
  {
   "cell_type": "markdown",
   "metadata": {},
   "source": [
    "从预测的 F1 值反推，目前可能的方案是：\n",
    "\n",
    "Prediction | Recall | F1\n",
    "-----------|--------|-----\n",
    "0.1 | 0.1 | 0.1\n",
    "0.1 | 0.2 | 0.133\n",
    "0.1 | 0.3 | 0.15\n",
    "0.1 | 0.4 | 0.160\n",
    "0.1 | 0.5 | 0.166\n",
    "0.1 | 0.6 | 0.17\n",
    "0.1 | 1.0 | 0.18\n",
    "0.2 | 0.2 | 0.2\n",
    "\n",
    "在纯口碑数据集看来，召回最高也才 35% 左右，而预测数据集包括不少新用户。在提交第一次提交时，取的是 11 月的样本，召回率应该在 30% 以下，如果假设是 20% ，那么对应的准确率是 10% 。"
   ]
  }
 ],
 "metadata": {
  "kernelspec": {
   "display_name": "Python 2",
   "language": "python",
   "name": "python2"
  },
  "language_info": {
   "codemirror_mode": {
    "name": "ipython",
    "version": 2
   },
   "file_extension": ".py",
   "mimetype": "text/x-python",
   "name": "python",
   "nbconvert_exporter": "python",
   "pygments_lexer": "ipython2",
   "version": "2.7.11"
  }
 },
 "nbformat": 4,
 "nbformat_minor": 0
}
