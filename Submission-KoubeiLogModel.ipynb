{
 "cells": [
  {
   "cell_type": "code",
   "execution_count": 1,
   "metadata": {
    "collapsed": false
   },
   "outputs": [
    {
     "name": "stderr",
     "output_type": "stream",
     "text": [
      "/usr/local/lib/python2.7/site-packages/matplotlib/font_manager.py:273: UserWarning: Matplotlib is building the font cache using fc-list. This may take a moment.\n",
      "  warnings.warn('Matplotlib is building the font cache using fc-list. This may take a moment.')\n"
     ]
    },
    {
     "name": "stdout",
     "output_type": "stream",
     "text": [
      "Populating the interactive namespace from numpy and matplotlib\n"
     ]
    }
   ],
   "source": [
    "%pylab inline"
   ]
  },
  {
   "cell_type": "code",
   "execution_count": 2,
   "metadata": {
    "collapsed": true
   },
   "outputs": [],
   "source": [
    "import pandas as pd"
   ]
  },
  {
   "cell_type": "code",
   "execution_count": 3,
   "metadata": {
    "collapsed": true
   },
   "outputs": [],
   "source": [
    "koubei = pd.read_csv(\n",
    "    'data/ijcai2016_koubei_train', header=None, names=['user_id', 'merchant_id', 'location_id', 'timestamp']\n",
    ")"
   ]
  },
  {
   "cell_type": "code",
   "execution_count": 4,
   "metadata": {
    "collapsed": true
   },
   "outputs": [],
   "source": [
    "pred = pd.read_csv('data/ijcai2016_koubei_test', header=None, names=['user_id', 'location_id']).set_index(['user_id', 'location_id'])"
   ]
  },
  {
   "cell_type": "code",
   "execution_count": 5,
   "metadata": {
    "collapsed": true
   },
   "outputs": [],
   "source": [
    "ulmg10 = koubei[koubei.timestamp.between(20151001, 20151031)].groupby(['user_id', 'location_id', 'merchant_id'])"
   ]
  },
  {
   "cell_type": "code",
   "execution_count": 6,
   "metadata": {
    "collapsed": true
   },
   "outputs": [],
   "source": [
    "ulm10_cnt = pd.DataFrame(dict(\n",
    "    ulm_r1d_cnt=ulmg10.timestamp.agg(lambda d: sum(d > 20151030)),\n",
    "    ulm_r2d_cnt=ulmg10.timestamp.agg(lambda d: sum(d > 20151029)),\n",
    "    ulm_r3d_cnt=ulmg10.timestamp.agg(lambda d: sum(d > 20151028)),\n",
    "    ulm_r4d_cnt=ulmg10.timestamp.agg(lambda d: sum(d > 20151027)),\n",
    "    ulm_r5d_cnt=ulmg10.timestamp.agg(lambda d: sum(d > 20151026)),\n",
    "    ulm_r1w_cnt=ulmg10.timestamp.agg(lambda d: sum(d > 20151023)),\n",
    "    ulm_r2w_cnt=ulmg10.timestamp.agg(lambda d: sum(d > 20151016)),\n",
    "    ulm_r3w_cnt=ulmg10.timestamp.agg(lambda d: sum(d > 20151009)),\n",
    "    ulm_r1m_cnt=ulmg10.timestamp.agg(lambda d: sum(d >= 20151001))\n",
    "))"
   ]
  },
  {
   "cell_type": "code",
   "execution_count": 7,
   "metadata": {
    "collapsed": false
   },
   "outputs": [
    {
     "data": {
      "text/html": [
       "<div>\n",
       "<table border=\"1\" class=\"dataframe\">\n",
       "  <thead>\n",
       "    <tr style=\"text-align: right;\">\n",
       "      <th></th>\n",
       "      <th></th>\n",
       "      <th></th>\n",
       "      <th>ulm_r1d_cnt</th>\n",
       "      <th>ulm_r1m_cnt</th>\n",
       "      <th>ulm_r1w_cnt</th>\n",
       "      <th>ulm_r2d_cnt</th>\n",
       "      <th>ulm_r2w_cnt</th>\n",
       "      <th>ulm_r3d_cnt</th>\n",
       "      <th>ulm_r3w_cnt</th>\n",
       "      <th>ulm_r4d_cnt</th>\n",
       "      <th>ulm_r5d_cnt</th>\n",
       "    </tr>\n",
       "    <tr>\n",
       "      <th>user_id</th>\n",
       "      <th>location_id</th>\n",
       "      <th>merchant_id</th>\n",
       "      <th></th>\n",
       "      <th></th>\n",
       "      <th></th>\n",
       "      <th></th>\n",
       "      <th></th>\n",
       "      <th></th>\n",
       "      <th></th>\n",
       "      <th></th>\n",
       "      <th></th>\n",
       "    </tr>\n",
       "  </thead>\n",
       "  <tbody>\n",
       "    <tr>\n",
       "      <th>4</th>\n",
       "      <th>254</th>\n",
       "      <th>3527</th>\n",
       "      <td>0</td>\n",
       "      <td>1</td>\n",
       "      <td>0</td>\n",
       "      <td>0</td>\n",
       "      <td>0</td>\n",
       "      <td>0</td>\n",
       "      <td>0</td>\n",
       "      <td>0</td>\n",
       "      <td>0</td>\n",
       "    </tr>\n",
       "    <tr>\n",
       "      <th>22</th>\n",
       "      <th>371</th>\n",
       "      <th>4264</th>\n",
       "      <td>0</td>\n",
       "      <td>1</td>\n",
       "      <td>0</td>\n",
       "      <td>0</td>\n",
       "      <td>1</td>\n",
       "      <td>0</td>\n",
       "      <td>1</td>\n",
       "      <td>0</td>\n",
       "      <td>0</td>\n",
       "    </tr>\n",
       "    <tr>\n",
       "      <th>38</th>\n",
       "      <th>272</th>\n",
       "      <th>820</th>\n",
       "      <td>0</td>\n",
       "      <td>1</td>\n",
       "      <td>1</td>\n",
       "      <td>0</td>\n",
       "      <td>1</td>\n",
       "      <td>0</td>\n",
       "      <td>1</td>\n",
       "      <td>0</td>\n",
       "      <td>0</td>\n",
       "    </tr>\n",
       "    <tr>\n",
       "      <th>55</th>\n",
       "      <th>438</th>\n",
       "      <th>820</th>\n",
       "      <td>0</td>\n",
       "      <td>1</td>\n",
       "      <td>0</td>\n",
       "      <td>0</td>\n",
       "      <td>1</td>\n",
       "      <td>0</td>\n",
       "      <td>1</td>\n",
       "      <td>0</td>\n",
       "      <td>0</td>\n",
       "    </tr>\n",
       "    <tr>\n",
       "      <th>108</th>\n",
       "      <th>30</th>\n",
       "      <th>8646</th>\n",
       "      <td>0</td>\n",
       "      <td>4</td>\n",
       "      <td>0</td>\n",
       "      <td>0</td>\n",
       "      <td>0</td>\n",
       "      <td>0</td>\n",
       "      <td>4</td>\n",
       "      <td>0</td>\n",
       "      <td>0</td>\n",
       "    </tr>\n",
       "  </tbody>\n",
       "</table>\n",
       "</div>"
      ],
      "text/plain": [
       "                                 ulm_r1d_cnt  ulm_r1m_cnt  ulm_r1w_cnt  \\\n",
       "user_id location_id merchant_id                                          \n",
       "4       254         3527                   0            1            0   \n",
       "22      371         4264                   0            1            0   \n",
       "38      272         820                    0            1            1   \n",
       "55      438         820                    0            1            0   \n",
       "108     30          8646                   0            4            0   \n",
       "\n",
       "                                 ulm_r2d_cnt  ulm_r2w_cnt  ulm_r3d_cnt  \\\n",
       "user_id location_id merchant_id                                          \n",
       "4       254         3527                   0            0            0   \n",
       "22      371         4264                   0            1            0   \n",
       "38      272         820                    0            1            0   \n",
       "55      438         820                    0            1            0   \n",
       "108     30          8646                   0            0            0   \n",
       "\n",
       "                                 ulm_r3w_cnt  ulm_r4d_cnt  ulm_r5d_cnt  \n",
       "user_id location_id merchant_id                                         \n",
       "4       254         3527                   0            0            0  \n",
       "22      371         4264                   1            0            0  \n",
       "38      272         820                    1            0            0  \n",
       "55      438         820                    1            0            0  \n",
       "108     30          8646                   4            0            0  "
      ]
     },
     "execution_count": 7,
     "metadata": {},
     "output_type": "execute_result"
    }
   ],
   "source": [
    "ulm10_cnt.head()"
   ]
  },
  {
   "cell_type": "code",
   "execution_count": 8,
   "metadata": {
    "collapsed": true
   },
   "outputs": [],
   "source": [
    "ulg10 = koubei[koubei.timestamp.between(20151001, 20151031)].groupby(['user_id', 'location_id'])"
   ]
  },
  {
   "cell_type": "code",
   "execution_count": 9,
   "metadata": {
    "collapsed": true
   },
   "outputs": [],
   "source": [
    "ul10_cnt = pd.DataFrame(dict(\n",
    "    ul_r1d_cnt=ulg10.timestamp.agg(lambda d: sum(d > 20151030)),\n",
    "    ul_r2d_cnt=ulg10.timestamp.agg(lambda d: sum(d > 20151029)),\n",
    "    ul_r3d_cnt=ulg10.timestamp.agg(lambda d: sum(d > 20151028)),\n",
    "    ul_r4d_cnt=ulg10.timestamp.agg(lambda d: sum(d > 20151027)),\n",
    "    ul_r5d_cnt=ulg10.timestamp.agg(lambda d: sum(d > 20151026)),\n",
    "    ul_r1w_cnt=ulg10.timestamp.agg(lambda d: sum(d > 20151023)),\n",
    "    ul_r2w_cnt=ulg10.timestamp.agg(lambda d: sum(d > 20151016)),\n",
    "    ul_r3w_cnt=ulg10.timestamp.agg(lambda d: sum(d > 20151009)),\n",
    "    ul_r1m_cnt=ulg10.timestamp.agg(lambda d: sum(d >= 20151001))\n",
    "))"
   ]
  },
  {
   "cell_type": "code",
   "execution_count": 10,
   "metadata": {
    "collapsed": false
   },
   "outputs": [
    {
     "data": {
      "text/html": [
       "<div>\n",
       "<table border=\"1\" class=\"dataframe\">\n",
       "  <thead>\n",
       "    <tr style=\"text-align: right;\">\n",
       "      <th></th>\n",
       "      <th></th>\n",
       "      <th>ul_r1d_cnt</th>\n",
       "      <th>ul_r1m_cnt</th>\n",
       "      <th>ul_r1w_cnt</th>\n",
       "      <th>ul_r2d_cnt</th>\n",
       "      <th>ul_r2w_cnt</th>\n",
       "      <th>ul_r3d_cnt</th>\n",
       "      <th>ul_r3w_cnt</th>\n",
       "      <th>ul_r4d_cnt</th>\n",
       "      <th>ul_r5d_cnt</th>\n",
       "    </tr>\n",
       "    <tr>\n",
       "      <th>user_id</th>\n",
       "      <th>location_id</th>\n",
       "      <th></th>\n",
       "      <th></th>\n",
       "      <th></th>\n",
       "      <th></th>\n",
       "      <th></th>\n",
       "      <th></th>\n",
       "      <th></th>\n",
       "      <th></th>\n",
       "      <th></th>\n",
       "    </tr>\n",
       "  </thead>\n",
       "  <tbody>\n",
       "    <tr>\n",
       "      <th>4</th>\n",
       "      <th>254</th>\n",
       "      <td>0</td>\n",
       "      <td>1</td>\n",
       "      <td>0</td>\n",
       "      <td>0</td>\n",
       "      <td>0</td>\n",
       "      <td>0</td>\n",
       "      <td>0</td>\n",
       "      <td>0</td>\n",
       "      <td>0</td>\n",
       "    </tr>\n",
       "    <tr>\n",
       "      <th>22</th>\n",
       "      <th>371</th>\n",
       "      <td>0</td>\n",
       "      <td>1</td>\n",
       "      <td>0</td>\n",
       "      <td>0</td>\n",
       "      <td>1</td>\n",
       "      <td>0</td>\n",
       "      <td>1</td>\n",
       "      <td>0</td>\n",
       "      <td>0</td>\n",
       "    </tr>\n",
       "    <tr>\n",
       "      <th>38</th>\n",
       "      <th>272</th>\n",
       "      <td>0</td>\n",
       "      <td>1</td>\n",
       "      <td>1</td>\n",
       "      <td>0</td>\n",
       "      <td>1</td>\n",
       "      <td>0</td>\n",
       "      <td>1</td>\n",
       "      <td>0</td>\n",
       "      <td>0</td>\n",
       "    </tr>\n",
       "    <tr>\n",
       "      <th>55</th>\n",
       "      <th>438</th>\n",
       "      <td>0</td>\n",
       "      <td>1</td>\n",
       "      <td>0</td>\n",
       "      <td>0</td>\n",
       "      <td>1</td>\n",
       "      <td>0</td>\n",
       "      <td>1</td>\n",
       "      <td>0</td>\n",
       "      <td>0</td>\n",
       "    </tr>\n",
       "    <tr>\n",
       "      <th>108</th>\n",
       "      <th>30</th>\n",
       "      <td>0</td>\n",
       "      <td>4</td>\n",
       "      <td>0</td>\n",
       "      <td>0</td>\n",
       "      <td>0</td>\n",
       "      <td>0</td>\n",
       "      <td>4</td>\n",
       "      <td>0</td>\n",
       "      <td>0</td>\n",
       "    </tr>\n",
       "  </tbody>\n",
       "</table>\n",
       "</div>"
      ],
      "text/plain": [
       "                     ul_r1d_cnt  ul_r1m_cnt  ul_r1w_cnt  ul_r2d_cnt  \\\n",
       "user_id location_id                                                   \n",
       "4       254                   0           1           0           0   \n",
       "22      371                   0           1           0           0   \n",
       "38      272                   0           1           1           0   \n",
       "55      438                   0           1           0           0   \n",
       "108     30                    0           4           0           0   \n",
       "\n",
       "                     ul_r2w_cnt  ul_r3d_cnt  ul_r3w_cnt  ul_r4d_cnt  \\\n",
       "user_id location_id                                                   \n",
       "4       254                   0           0           0           0   \n",
       "22      371                   1           0           1           0   \n",
       "38      272                   1           0           1           0   \n",
       "55      438                   1           0           1           0   \n",
       "108     30                    0           0           4           0   \n",
       "\n",
       "                     ul_r5d_cnt  \n",
       "user_id location_id              \n",
       "4       254                   0  \n",
       "22      371                   0  \n",
       "38      272                   0  \n",
       "55      438                   0  \n",
       "108     30                    0  "
      ]
     },
     "execution_count": 10,
     "metadata": {},
     "output_type": "execute_result"
    }
   ],
   "source": [
    "ul10_cnt.head()"
   ]
  },
  {
   "cell_type": "code",
   "execution_count": 11,
   "metadata": {
    "collapsed": true
   },
   "outputs": [],
   "source": [
    "umg10 = koubei[koubei.timestamp.between(20151001, 20151031)].groupby(['user_id', 'merchant_id'])"
   ]
  },
  {
   "cell_type": "code",
   "execution_count": 12,
   "metadata": {
    "collapsed": true
   },
   "outputs": [],
   "source": [
    "um10_cnt = pd.DataFrame(dict(\n",
    "    um_r1d_cnt=umg10.timestamp.agg(lambda d: sum(d - 20151030)),\n",
    "    um_r2d_cnt=umg10.timestamp.agg(lambda d: sum(d > 20151029)),\n",
    "    um_r3d_cnt=umg10.timestamp.agg(lambda d: sum(d > 20151028)),\n",
    "    um_r4d_cnt=umg10.timestamp.agg(lambda d: sum(d > 20151027)),\n",
    "    um_r5d_cnt=umg10.timestamp.agg(lambda d: sum(d > 20151026)),\n",
    "    um_r1w_cnt=umg10.timestamp.agg(lambda d: sum(d > 20151023)),\n",
    "    um_r2w_cnt=umg10.timestamp.agg(lambda d: sum(d > 20151016)),\n",
    "    um_r3w_cnt=umg10.timestamp.agg(lambda d: sum(d > 20151009)),\n",
    "    um_r1m_cnt=umg10.timestamp.agg(lambda d: sum(d >= 20151001))\n",
    "))"
   ]
  },
  {
   "cell_type": "code",
   "execution_count": 13,
   "metadata": {
    "collapsed": false
   },
   "outputs": [
    {
     "data": {
      "text/html": [
       "<div>\n",
       "<table border=\"1\" class=\"dataframe\">\n",
       "  <thead>\n",
       "    <tr style=\"text-align: right;\">\n",
       "      <th></th>\n",
       "      <th></th>\n",
       "      <th>um_r1d_cnt</th>\n",
       "      <th>um_r1m_cnt</th>\n",
       "      <th>um_r1w_cnt</th>\n",
       "      <th>um_r2d_cnt</th>\n",
       "      <th>um_r2w_cnt</th>\n",
       "      <th>um_r3d_cnt</th>\n",
       "      <th>um_r3w_cnt</th>\n",
       "      <th>um_r4d_cnt</th>\n",
       "      <th>um_r5d_cnt</th>\n",
       "    </tr>\n",
       "    <tr>\n",
       "      <th>user_id</th>\n",
       "      <th>merchant_id</th>\n",
       "      <th></th>\n",
       "      <th></th>\n",
       "      <th></th>\n",
       "      <th></th>\n",
       "      <th></th>\n",
       "      <th></th>\n",
       "      <th></th>\n",
       "      <th></th>\n",
       "      <th></th>\n",
       "    </tr>\n",
       "  </thead>\n",
       "  <tbody>\n",
       "    <tr>\n",
       "      <th>4</th>\n",
       "      <th>3527</th>\n",
       "      <td>-22</td>\n",
       "      <td>1</td>\n",
       "      <td>0</td>\n",
       "      <td>0</td>\n",
       "      <td>0</td>\n",
       "      <td>0</td>\n",
       "      <td>0</td>\n",
       "      <td>0</td>\n",
       "      <td>0</td>\n",
       "    </tr>\n",
       "    <tr>\n",
       "      <th>22</th>\n",
       "      <th>4264</th>\n",
       "      <td>-10</td>\n",
       "      <td>1</td>\n",
       "      <td>0</td>\n",
       "      <td>0</td>\n",
       "      <td>1</td>\n",
       "      <td>0</td>\n",
       "      <td>1</td>\n",
       "      <td>0</td>\n",
       "      <td>0</td>\n",
       "    </tr>\n",
       "    <tr>\n",
       "      <th>38</th>\n",
       "      <th>820</th>\n",
       "      <td>-5</td>\n",
       "      <td>1</td>\n",
       "      <td>1</td>\n",
       "      <td>0</td>\n",
       "      <td>1</td>\n",
       "      <td>0</td>\n",
       "      <td>1</td>\n",
       "      <td>0</td>\n",
       "      <td>0</td>\n",
       "    </tr>\n",
       "    <tr>\n",
       "      <th>55</th>\n",
       "      <th>820</th>\n",
       "      <td>-11</td>\n",
       "      <td>1</td>\n",
       "      <td>0</td>\n",
       "      <td>0</td>\n",
       "      <td>1</td>\n",
       "      <td>0</td>\n",
       "      <td>1</td>\n",
       "      <td>0</td>\n",
       "      <td>0</td>\n",
       "    </tr>\n",
       "    <tr>\n",
       "      <th>108</th>\n",
       "      <th>8646</th>\n",
       "      <td>-74</td>\n",
       "      <td>4</td>\n",
       "      <td>0</td>\n",
       "      <td>0</td>\n",
       "      <td>0</td>\n",
       "      <td>0</td>\n",
       "      <td>4</td>\n",
       "      <td>0</td>\n",
       "      <td>0</td>\n",
       "    </tr>\n",
       "  </tbody>\n",
       "</table>\n",
       "</div>"
      ],
      "text/plain": [
       "                     um_r1d_cnt  um_r1m_cnt  um_r1w_cnt  um_r2d_cnt  \\\n",
       "user_id merchant_id                                                   \n",
       "4       3527                -22           1           0           0   \n",
       "22      4264                -10           1           0           0   \n",
       "38      820                  -5           1           1           0   \n",
       "55      820                 -11           1           0           0   \n",
       "108     8646                -74           4           0           0   \n",
       "\n",
       "                     um_r2w_cnt  um_r3d_cnt  um_r3w_cnt  um_r4d_cnt  \\\n",
       "user_id merchant_id                                                   \n",
       "4       3527                  0           0           0           0   \n",
       "22      4264                  1           0           1           0   \n",
       "38      820                   1           0           1           0   \n",
       "55      820                   1           0           1           0   \n",
       "108     8646                  0           0           4           0   \n",
       "\n",
       "                     um_r5d_cnt  \n",
       "user_id merchant_id              \n",
       "4       3527                  0  \n",
       "22      4264                  0  \n",
       "38      820                   0  \n",
       "55      820                   0  \n",
       "108     8646                  0  "
      ]
     },
     "execution_count": 13,
     "metadata": {},
     "output_type": "execute_result"
    }
   ],
   "source": [
    "um10_cnt.head()"
   ]
  },
  {
   "cell_type": "code",
   "execution_count": 14,
   "metadata": {
    "collapsed": false
   },
   "outputs": [],
   "source": [
    "trn = pd.merge(\n",
    "    pd.merge(\n",
    "        ulm10_cnt.reset_index(), ul10_cnt.reset_index(),\n",
    "        on=['user_id', 'location_id'], how='left'\n",
    "    ),\n",
    "    um10_cnt.reset_index(),\n",
    "    on=['user_id', 'merchant_id'], how='left'\n",
    ")"
   ]
  },
  {
   "cell_type": "code",
   "execution_count": 15,
   "metadata": {
    "collapsed": false,
    "scrolled": true
   },
   "outputs": [
    {
     "data": {
      "text/html": [
       "<div>\n",
       "<table border=\"1\" class=\"dataframe\">\n",
       "  <thead>\n",
       "    <tr style=\"text-align: right;\">\n",
       "      <th></th>\n",
       "      <th>user_id</th>\n",
       "      <th>location_id</th>\n",
       "      <th>merchant_id</th>\n",
       "      <th>ulm_r1d_cnt</th>\n",
       "      <th>ulm_r1m_cnt</th>\n",
       "      <th>ulm_r1w_cnt</th>\n",
       "      <th>ulm_r2d_cnt</th>\n",
       "      <th>ulm_r2w_cnt</th>\n",
       "      <th>ulm_r3d_cnt</th>\n",
       "      <th>ulm_r3w_cnt</th>\n",
       "      <th>...</th>\n",
       "      <th>ul_r5d_cnt</th>\n",
       "      <th>um_r1d_cnt</th>\n",
       "      <th>um_r1m_cnt</th>\n",
       "      <th>um_r1w_cnt</th>\n",
       "      <th>um_r2d_cnt</th>\n",
       "      <th>um_r2w_cnt</th>\n",
       "      <th>um_r3d_cnt</th>\n",
       "      <th>um_r3w_cnt</th>\n",
       "      <th>um_r4d_cnt</th>\n",
       "      <th>um_r5d_cnt</th>\n",
       "    </tr>\n",
       "  </thead>\n",
       "  <tbody>\n",
       "    <tr>\n",
       "      <th>0</th>\n",
       "      <td>4</td>\n",
       "      <td>254</td>\n",
       "      <td>3527</td>\n",
       "      <td>0</td>\n",
       "      <td>1</td>\n",
       "      <td>0</td>\n",
       "      <td>0</td>\n",
       "      <td>0</td>\n",
       "      <td>0</td>\n",
       "      <td>0</td>\n",
       "      <td>...</td>\n",
       "      <td>0</td>\n",
       "      <td>-22</td>\n",
       "      <td>1</td>\n",
       "      <td>0</td>\n",
       "      <td>0</td>\n",
       "      <td>0</td>\n",
       "      <td>0</td>\n",
       "      <td>0</td>\n",
       "      <td>0</td>\n",
       "      <td>0</td>\n",
       "    </tr>\n",
       "    <tr>\n",
       "      <th>1</th>\n",
       "      <td>22</td>\n",
       "      <td>371</td>\n",
       "      <td>4264</td>\n",
       "      <td>0</td>\n",
       "      <td>1</td>\n",
       "      <td>0</td>\n",
       "      <td>0</td>\n",
       "      <td>1</td>\n",
       "      <td>0</td>\n",
       "      <td>1</td>\n",
       "      <td>...</td>\n",
       "      <td>0</td>\n",
       "      <td>-10</td>\n",
       "      <td>1</td>\n",
       "      <td>0</td>\n",
       "      <td>0</td>\n",
       "      <td>1</td>\n",
       "      <td>0</td>\n",
       "      <td>1</td>\n",
       "      <td>0</td>\n",
       "      <td>0</td>\n",
       "    </tr>\n",
       "    <tr>\n",
       "      <th>2</th>\n",
       "      <td>38</td>\n",
       "      <td>272</td>\n",
       "      <td>820</td>\n",
       "      <td>0</td>\n",
       "      <td>1</td>\n",
       "      <td>1</td>\n",
       "      <td>0</td>\n",
       "      <td>1</td>\n",
       "      <td>0</td>\n",
       "      <td>1</td>\n",
       "      <td>...</td>\n",
       "      <td>0</td>\n",
       "      <td>-5</td>\n",
       "      <td>1</td>\n",
       "      <td>1</td>\n",
       "      <td>0</td>\n",
       "      <td>1</td>\n",
       "      <td>0</td>\n",
       "      <td>1</td>\n",
       "      <td>0</td>\n",
       "      <td>0</td>\n",
       "    </tr>\n",
       "    <tr>\n",
       "      <th>3</th>\n",
       "      <td>55</td>\n",
       "      <td>438</td>\n",
       "      <td>820</td>\n",
       "      <td>0</td>\n",
       "      <td>1</td>\n",
       "      <td>0</td>\n",
       "      <td>0</td>\n",
       "      <td>1</td>\n",
       "      <td>0</td>\n",
       "      <td>1</td>\n",
       "      <td>...</td>\n",
       "      <td>0</td>\n",
       "      <td>-11</td>\n",
       "      <td>1</td>\n",
       "      <td>0</td>\n",
       "      <td>0</td>\n",
       "      <td>1</td>\n",
       "      <td>0</td>\n",
       "      <td>1</td>\n",
       "      <td>0</td>\n",
       "      <td>0</td>\n",
       "    </tr>\n",
       "    <tr>\n",
       "      <th>4</th>\n",
       "      <td>108</td>\n",
       "      <td>30</td>\n",
       "      <td>8646</td>\n",
       "      <td>0</td>\n",
       "      <td>4</td>\n",
       "      <td>0</td>\n",
       "      <td>0</td>\n",
       "      <td>0</td>\n",
       "      <td>0</td>\n",
       "      <td>4</td>\n",
       "      <td>...</td>\n",
       "      <td>0</td>\n",
       "      <td>-74</td>\n",
       "      <td>4</td>\n",
       "      <td>0</td>\n",
       "      <td>0</td>\n",
       "      <td>0</td>\n",
       "      <td>0</td>\n",
       "      <td>4</td>\n",
       "      <td>0</td>\n",
       "      <td>0</td>\n",
       "    </tr>\n",
       "  </tbody>\n",
       "</table>\n",
       "<p>5 rows × 30 columns</p>\n",
       "</div>"
      ],
      "text/plain": [
       "   user_id  location_id  merchant_id  ulm_r1d_cnt  ulm_r1m_cnt  ulm_r1w_cnt  \\\n",
       "0        4          254         3527            0            1            0   \n",
       "1       22          371         4264            0            1            0   \n",
       "2       38          272          820            0            1            1   \n",
       "3       55          438          820            0            1            0   \n",
       "4      108           30         8646            0            4            0   \n",
       "\n",
       "   ulm_r2d_cnt  ulm_r2w_cnt  ulm_r3d_cnt  ulm_r3w_cnt     ...      ul_r5d_cnt  \\\n",
       "0            0            0            0            0     ...               0   \n",
       "1            0            1            0            1     ...               0   \n",
       "2            0            1            0            1     ...               0   \n",
       "3            0            1            0            1     ...               0   \n",
       "4            0            0            0            4     ...               0   \n",
       "\n",
       "   um_r1d_cnt  um_r1m_cnt  um_r1w_cnt  um_r2d_cnt  um_r2w_cnt  um_r3d_cnt  \\\n",
       "0         -22           1           0           0           0           0   \n",
       "1         -10           1           0           0           1           0   \n",
       "2          -5           1           1           0           1           0   \n",
       "3         -11           1           0           0           1           0   \n",
       "4         -74           4           0           0           0           0   \n",
       "\n",
       "   um_r3w_cnt  um_r4d_cnt  um_r5d_cnt  \n",
       "0           0           0           0  \n",
       "1           1           0           0  \n",
       "2           1           0           0  \n",
       "3           1           0           0  \n",
       "4           4           0           0  \n",
       "\n",
       "[5 rows x 30 columns]"
      ]
     },
     "execution_count": 15,
     "metadata": {},
     "output_type": "execute_result"
    }
   ],
   "source": [
    "trn.head()"
   ]
  },
  {
   "cell_type": "code",
   "execution_count": 16,
   "metadata": {
    "collapsed": false,
    "scrolled": true
   },
   "outputs": [
    {
     "data": {
      "text/plain": [
       "Index([u'user_id', u'location_id', u'merchant_id', u'ulm_r1d_cnt',\n",
       "       u'ulm_r1m_cnt', u'ulm_r1w_cnt', u'ulm_r2d_cnt', u'ulm_r2w_cnt',\n",
       "       u'ulm_r3d_cnt', u'ulm_r3w_cnt', u'ulm_r4d_cnt', u'ulm_r5d_cnt',\n",
       "       u'ul_r1d_cnt', u'ul_r1m_cnt', u'ul_r1w_cnt', u'ul_r2d_cnt',\n",
       "       u'ul_r2w_cnt', u'ul_r3d_cnt', u'ul_r3w_cnt', u'ul_r4d_cnt',\n",
       "       u'ul_r5d_cnt', u'um_r1d_cnt', u'um_r1m_cnt', u'um_r1w_cnt',\n",
       "       u'um_r2d_cnt', u'um_r2w_cnt', u'um_r3d_cnt', u'um_r3w_cnt',\n",
       "       u'um_r4d_cnt', u'um_r5d_cnt'],\n",
       "      dtype='object')"
      ]
     },
     "execution_count": 16,
     "metadata": {},
     "output_type": "execute_result"
    }
   ],
   "source": [
    "trn.columns"
   ]
  },
  {
   "cell_type": "code",
   "execution_count": 17,
   "metadata": {
    "collapsed": false,
    "scrolled": true
   },
   "outputs": [
    {
     "data": {
      "image/png": "[encoded data removed]",
      "text/plain": [
       "<matplotlib.figure.Figure at 0x10913d850>"
      ]
     },
     "metadata": {},
     "output_type": "display_data"
    }
   ],
   "source": [
    "plot(linspace(1, 30), linspace(1, 30) ** -0.7);"
   ]
  },
  {
   "cell_type": "code",
   "execution_count": 18,
   "metadata": {
    "collapsed": false
   },
   "outputs": [
    {
     "ename": "TypeError",
     "evalue": "incompatible index of inserted column with frame index",
     "output_type": "error",
     "traceback": [
      "\u001b[0;31m---------------------------------------------------------------------------\u001b[0m",
      "\u001b[0;31mTypeError\u001b[0m                                 Traceback (most recent call last)",
      "\u001b[0;32m<ipython-input-18-6c24aa805bdb>\u001b[0m in \u001b[0;36m<module>\u001b[0;34m()\u001b[0m\n\u001b[0;32m----> 1\u001b[0;31m \u001b[0mtrn\u001b[0m\u001b[0;34m[\u001b[0m\u001b[0;34m'ulm_logd'\u001b[0m\u001b[0;34m]\u001b[0m \u001b[0;34m=\u001b[0m \u001b[0mulmg10\u001b[0m\u001b[0;34m.\u001b[0m\u001b[0mtimestamp\u001b[0m\u001b[0;34m.\u001b[0m\u001b[0magg\u001b[0m\u001b[0;34m(\u001b[0m\u001b[0;32mlambda\u001b[0m \u001b[0md\u001b[0m\u001b[0;34m:\u001b[0m \u001b[0msum\u001b[0m\u001b[0;34m(\u001b[0m\u001b[0;36m0.7\u001b[0m \u001b[0;34m**\u001b[0m \u001b[0;34m(\u001b[0m\u001b[0;36m20151031\u001b[0m \u001b[0;34m-\u001b[0m \u001b[0md\u001b[0m\u001b[0;34m)\u001b[0m\u001b[0;34m)\u001b[0m\u001b[0;34m)\u001b[0m\u001b[0;34m\u001b[0m\u001b[0m\n\u001b[0m",
      "\u001b[0;32m/usr/local/lib/python2.7/site-packages/pandas/core/frame.pyc\u001b[0m in \u001b[0;36m__setitem__\u001b[0;34m(self, key, value)\u001b[0m\n\u001b[1;32m   2297\u001b[0m         \u001b[0;32melse\u001b[0m\u001b[0;34m:\u001b[0m\u001b[0;34m\u001b[0m\u001b[0m\n\u001b[1;32m   2298\u001b[0m             \u001b[0;31m# set column\u001b[0m\u001b[0;34m\u001b[0m\u001b[0;34m\u001b[0m\u001b[0m\n\u001b[0;32m-> 2299\u001b[0;31m             \u001b[0mself\u001b[0m\u001b[0;34m.\u001b[0m\u001b[0m_set_item\u001b[0m\u001b[0;34m(\u001b[0m\u001b[0mkey\u001b[0m\u001b[0;34m,\u001b[0m \u001b[0mvalue\u001b[0m\u001b[0;34m)\u001b[0m\u001b[0;34m\u001b[0m\u001b[0m\n\u001b[0m\u001b[1;32m   2300\u001b[0m \u001b[0;34m\u001b[0m\u001b[0m\n\u001b[1;32m   2301\u001b[0m     \u001b[0;32mdef\u001b[0m \u001b[0m_setitem_slice\u001b[0m\u001b[0;34m(\u001b[0m\u001b[0mself\u001b[0m\u001b[0;34m,\u001b[0m \u001b[0mkey\u001b[0m\u001b[0;34m,\u001b[0m \u001b[0mvalue\u001b[0m\u001b[0;34m)\u001b[0m\u001b[0;34m:\u001b[0m\u001b[0;34m\u001b[0m\u001b[0m\n",
      "\u001b[0;32m/usr/local/lib/python2.7/site-packages/pandas/core/frame.pyc\u001b[0m in \u001b[0;36m_set_item\u001b[0;34m(self, key, value)\u001b[0m\n\u001b[1;32m   2364\u001b[0m \u001b[0;34m\u001b[0m\u001b[0m\n\u001b[1;32m   2365\u001b[0m         \u001b[0mself\u001b[0m\u001b[0;34m.\u001b[0m\u001b[0m_ensure_valid_index\u001b[0m\u001b[0;34m(\u001b[0m\u001b[0mvalue\u001b[0m\u001b[0;34m)\u001b[0m\u001b[0;34m\u001b[0m\u001b[0m\n\u001b[0;32m-> 2366\u001b[0;31m         \u001b[0mvalue\u001b[0m \u001b[0;34m=\u001b[0m \u001b[0mself\u001b[0m\u001b[0;34m.\u001b[0m\u001b[0m_sanitize_column\u001b[0m\u001b[0;34m(\u001b[0m\u001b[0mkey\u001b[0m\u001b[0;34m,\u001b[0m \u001b[0mvalue\u001b[0m\u001b[0;34m)\u001b[0m\u001b[0;34m\u001b[0m\u001b[0m\n\u001b[0m\u001b[1;32m   2367\u001b[0m         \u001b[0mNDFrame\u001b[0m\u001b[0;34m.\u001b[0m\u001b[0m_set_item\u001b[0m\u001b[0;34m(\u001b[0m\u001b[0mself\u001b[0m\u001b[0;34m,\u001b[0m \u001b[0mkey\u001b[0m\u001b[0;34m,\u001b[0m \u001b[0mvalue\u001b[0m\u001b[0;34m)\u001b[0m\u001b[0;34m\u001b[0m\u001b[0m\n\u001b[1;32m   2368\u001b[0m \u001b[0;34m\u001b[0m\u001b[0m\n",
      "\u001b[0;32m/usr/local/lib/python2.7/site-packages/pandas/core/frame.pyc\u001b[0m in \u001b[0;36m_sanitize_column\u001b[0;34m(self, key, value)\u001b[0m\n\u001b[1;32m   2501\u001b[0m \u001b[0;34m\u001b[0m\u001b[0m\n\u001b[1;32m   2502\u001b[0m         \u001b[0;32mif\u001b[0m \u001b[0misinstance\u001b[0m\u001b[0;34m(\u001b[0m\u001b[0mvalue\u001b[0m\u001b[0;34m,\u001b[0m \u001b[0mSeries\u001b[0m\u001b[0;34m)\u001b[0m\u001b[0;34m:\u001b[0m\u001b[0;34m\u001b[0m\u001b[0m\n\u001b[0;32m-> 2503\u001b[0;31m             \u001b[0mvalue\u001b[0m \u001b[0;34m=\u001b[0m \u001b[0mreindexer\u001b[0m\u001b[0;34m(\u001b[0m\u001b[0mvalue\u001b[0m\u001b[0;34m)\u001b[0m\u001b[0;34m\u001b[0m\u001b[0m\n\u001b[0m\u001b[1;32m   2504\u001b[0m \u001b[0;34m\u001b[0m\u001b[0m\n\u001b[1;32m   2505\u001b[0m         \u001b[0;32melif\u001b[0m \u001b[0misinstance\u001b[0m\u001b[0;34m(\u001b[0m\u001b[0mvalue\u001b[0m\u001b[0;34m,\u001b[0m \u001b[0mDataFrame\u001b[0m\u001b[0;34m)\u001b[0m\u001b[0;34m:\u001b[0m\u001b[0;34m\u001b[0m\u001b[0m\n",
      "\u001b[0;32m/usr/local/lib/python2.7/site-packages/pandas/core/frame.pyc\u001b[0m in \u001b[0;36mreindexer\u001b[0;34m(value)\u001b[0m\n\u001b[1;32m   2496\u001b[0m \u001b[0;34m\u001b[0m\u001b[0m\n\u001b[1;32m   2497\u001b[0m                     \u001b[0;31m# other\u001b[0m\u001b[0;34m\u001b[0m\u001b[0;34m\u001b[0m\u001b[0m\n\u001b[0;32m-> 2498\u001b[0;31m                     raise TypeError('incompatible index of inserted column '\n\u001b[0m\u001b[1;32m   2499\u001b[0m                                     'with frame index')\n\u001b[1;32m   2500\u001b[0m             \u001b[0;32mreturn\u001b[0m \u001b[0mvalue\u001b[0m\u001b[0;34m\u001b[0m\u001b[0m\n",
      "\u001b[0;31mTypeError\u001b[0m: incompatible index of inserted column with frame index"
     ]
    }
   ],
   "source": [
    "trn['ulm_logd'] = ulmg10.timestamp.agg(lambda d: sum(0.7 ** (20151031 - d)))"
   ]
  },
  {
   "cell_type": "markdown",
   "metadata": {},
   "source": [
    "------"
   ]
  },
  {
   "cell_type": "code",
   "execution_count": null,
   "metadata": {
    "collapsed": true
   },
   "outputs": [],
   "source": [
    "ulmg11 = koubei[koubei.timestamp.between(20151101, 20151130)].groupby(['user_id', 'location_id', 'merchant_id'])"
   ]
  },
  {
   "cell_type": "code",
   "execution_count": null,
   "metadata": {
    "collapsed": false
   },
   "outputs": [],
   "source": [
    "ulm11_cnt = pd.DataFrame(dict(\n",
    "    ulm_r1d_cnt=ulmg11.timestamp.agg(lambda d: sum(d > 20151129)),\n",
    "    ulm_r2d_cnt=ulmg11.timestamp.agg(lambda d: sum(d > 20151128)),\n",
    "    ulm_r3d_cnt=ulmg11.timestamp.agg(lambda d: sum(d > 20151127)),\n",
    "    ulm_r4d_cnt=ulmg11.timestamp.agg(lambda d: sum(d > 20151126)),\n",
    "    ulm_r5d_cnt=ulmg11.timestamp.agg(lambda d: sum(d > 20151125)),\n",
    "    ulm_r1w_cnt=ulmg11.timestamp.agg(lambda d: sum(d > 20151122)),\n",
    "    ulm_r2w_cnt=ulmg11.timestamp.agg(lambda d: sum(d > 20151115)),\n",
    "    ulm_r3w_cnt=ulmg11.timestamp.agg(lambda d: sum(d > 20151108)),\n",
    "    ulm_r1m_cnt=ulmg11.timestamp.agg(lambda d: sum(d >= 20151101))\n",
    "))"
   ]
  },
  {
   "cell_type": "code",
   "execution_count": null,
   "metadata": {
    "collapsed": false
   },
   "outputs": [],
   "source": [
    "ulm11_cnt.head()"
   ]
  },
  {
   "cell_type": "code",
   "execution_count": null,
   "metadata": {
    "collapsed": true
   },
   "outputs": [],
   "source": [
    "ulg11 = koubei[koubei.timestamp.between(20151101, 20151130)].groupby(['user_id', 'location_id'])"
   ]
  },
  {
   "cell_type": "code",
   "execution_count": null,
   "metadata": {
    "collapsed": true
   },
   "outputs": [],
   "source": [
    "ul11_cnt = pd.DataFrame(dict(\n",
    "    ul_r1d_cnt=ulg11.timestamp.agg(lambda d: sum(d > 20151129)),\n",
    "    ul_r2d_cnt=ulg11.timestamp.agg(lambda d: sum(d > 20151128)),\n",
    "    ul_r3d_cnt=ulg11.timestamp.agg(lambda d: sum(d > 20151127)),\n",
    "    ul_r4d_cnt=ulg11.timestamp.agg(lambda d: sum(d > 20151126)),\n",
    "    ul_r5d_cnt=ulg11.timestamp.agg(lambda d: sum(d > 20151125)),\n",
    "    ul_r1w_cnt=ulg11.timestamp.agg(lambda d: sum(d > 20151122)),\n",
    "    ul_r2w_cnt=ulg11.timestamp.agg(lambda d: sum(d > 20151115)),\n",
    "    ul_r3w_cnt=ulg11.timestamp.agg(lambda d: sum(d > 20151108)),\n",
    "    ul_r1m_cnt=ulg11.timestamp.agg(lambda d: sum(d >= 20151101))\n",
    "))"
   ]
  },
  {
   "cell_type": "code",
   "execution_count": null,
   "metadata": {
    "collapsed": false
   },
   "outputs": [],
   "source": [
    "ul11_cnt.head()"
   ]
  },
  {
   "cell_type": "code",
   "execution_count": null,
   "metadata": {
    "collapsed": true
   },
   "outputs": [],
   "source": [
    "umg11 = koubei[koubei.timestamp.between(20151101, 20151130)].groupby(['user_id', 'merchant_id'])"
   ]
  },
  {
   "cell_type": "code",
   "execution_count": null,
   "metadata": {
    "collapsed": true
   },
   "outputs": [],
   "source": [
    "um11_cnt = pd.DataFrame(dict(\n",
    "    um_r1d_cnt=umg11.timestamp.agg(lambda d: sum(d > 20151129)),\n",
    "    um_r2d_cnt=umg11.timestamp.agg(lambda d: sum(d > 20151128)),\n",
    "    um_r3d_cnt=umg11.timestamp.agg(lambda d: sum(d > 20151127)),\n",
    "    um_r4d_cnt=umg11.timestamp.agg(lambda d: sum(d > 20151126)),\n",
    "    um_r5d_cnt=umg11.timestamp.agg(lambda d: sum(d > 20151125)),\n",
    "    um_r1w_cnt=umg11.timestamp.agg(lambda d: sum(d > 20151122)),\n",
    "    um_r2w_cnt=umg11.timestamp.agg(lambda d: sum(d > 20151115)),\n",
    "    um_r3w_cnt=umg11.timestamp.agg(lambda d: sum(d > 20151108)),\n",
    "    um_r1m_cnt=umg11.timestamp.agg(lambda d: sum(d >= 20151101))\n",
    "))"
   ]
  },
  {
   "cell_type": "code",
   "execution_count": null,
   "metadata": {
    "collapsed": false
   },
   "outputs": [],
   "source": [
    "um11_cnt.head()"
   ]
  },
  {
   "cell_type": "code",
   "execution_count": null,
   "metadata": {
    "collapsed": true
   },
   "outputs": [],
   "source": [
    "tst = pd.merge(\n",
    "    pd.merge(\n",
    "        ulm11_cnt.reset_index(), ul11_cnt.reset_index(),\n",
    "        on=['user_id', 'location_id'], how='left'\n",
    "    ),\n",
    "    um11_cnt.reset_index(),\n",
    "    on=['user_id', 'merchant_id'], how='left'\n",
    ")"
   ]
  },
  {
   "cell_type": "code",
   "execution_count": null,
   "metadata": {
    "collapsed": false
   },
   "outputs": [],
   "source": [
    "tst.head()"
   ]
  },
  {
   "cell_type": "code",
   "execution_count": null,
   "metadata": {
    "collapsed": true
   },
   "outputs": [],
   "source": [
    "tst['ulm_logd'] = ulmg11.timestamp.agg(lambda d: sum(0.7 ** (20151130 - d)))"
   ]
  },
  {
   "cell_type": "code",
   "execution_count": null,
   "metadata": {
    "collapsed": false
   },
   "outputs": [],
   "source": [
    "trn = trn.set_index(['user_id', 'location_id', 'merchant_id'])\n",
    "tst = tst.set_index(['user_id', 'location_id', 'merchant_id'])"
   ]
  },
  {
   "cell_type": "code",
   "execution_count": null,
   "metadata": {
    "collapsed": true
   },
   "outputs": [],
   "source": [
    "trn['label'] = list(1 if d else 0 for d in trn.index.isin(tst.index))"
   ]
  },
  {
   "cell_type": "code",
   "execution_count": null,
   "metadata": {
    "collapsed": false
   },
   "outputs": [],
   "source": [
    "print('正负比：%.2f%%' % (count_nonzero(trn.label==1) / float(count_nonzero(trn.label==0)) * 100))"
   ]
  },
  {
   "cell_type": "code",
   "execution_count": null,
   "metadata": {
    "collapsed": true
   },
   "outputs": [],
   "source": [
    "cols = list(set(trn.columns) - set(['label']))"
   ]
  },
  {
   "cell_type": "code",
   "execution_count": null,
   "metadata": {
    "collapsed": false
   },
   "outputs": [],
   "source": [
    "X = trn.as_matrix(cols)\n",
    "y = trn.as_matrix(['label']).ravel()"
   ]
  },
  {
   "cell_type": "code",
   "execution_count": null,
   "metadata": {
    "collapsed": false,
    "scrolled": true
   },
   "outputs": [],
   "source": [
    "sometrue(isnan(y))"
   ]
  },
  {
   "cell_type": "code",
   "execution_count": null,
   "metadata": {
    "collapsed": true
   },
   "outputs": [],
   "source": [
    "T = tst.as_matrix(cols)"
   ]
  },
  {
   "cell_type": "markdown",
   "metadata": {},
   "source": [
    "使用模型筛选用户"
   ]
  },
  {
   "cell_type": "code",
   "execution_count": null,
   "metadata": {
    "collapsed": true
   },
   "outputs": [],
   "source": [
    "from sklearn import ensemble"
   ]
  },
  {
   "cell_type": "code",
   "execution_count": null,
   "metadata": {
    "collapsed": true
   },
   "outputs": [],
   "source": [
    "f1 = lambda p, r: 2 * p * r / float(p + r)"
   ]
  },
  {
   "cell_type": "code",
   "execution_count": null,
   "metadata": {
    "collapsed": false
   },
   "outputs": [],
   "source": [
    "clf = ensemble.RandomForestClassifier(max_depth=8, n_estimators=200, )"
   ]
  },
  {
   "cell_type": "code",
   "execution_count": null,
   "metadata": {
    "collapsed": false,
    "scrolled": false
   },
   "outputs": [],
   "source": [
    "clf.fit(X, y)"
   ]
  },
  {
   "cell_type": "code",
   "execution_count": null,
   "metadata": {
    "collapsed": false
   },
   "outputs": [],
   "source": [
    "cols[argmax(clf.feature_importances_)]"
   ]
  },
  {
   "cell_type": "code",
   "execution_count": null,
   "metadata": {
    "collapsed": false
   },
   "outputs": [],
   "source": [
    "hist(clf.predict_proba(X)[:, 1]);"
   ]
  },
  {
   "cell_type": "code",
   "execution_count": null,
   "metadata": {
    "collapsed": false,
    "scrolled": false
   },
   "outputs": [],
   "source": [
    "v = clf.predict_proba(X)[:, 1] > 0.35\n",
    "print('预测正样本占比：%.2f%%' % (count_nonzero(v==1) / float(len(v)) * 100))\n",
    "print('实际正样本占比：%.2f%%' % (count_nonzero(y==1) / float(len(y)) * 100))\n",
    "print('准确率：%.2f%%' % (count_nonzero((v == y) & (y == 1)) / float(count_nonzero(v == 1)) * 100))\n",
    "print('覆盖率：%.2f%%' % (count_nonzero((v == y) & (y == 1)) / float(count_nonzero(y == 1)) * 100))\n",
    "print('F1: %.2f%%' % (f1(count_nonzero((v == y) & (y == 1)) / float(count_nonzero(v == 1)), count_nonzero((v == y) & (y == 1)) / float(count_nonzero(y == 1))) * 100))"
   ]
  },
  {
   "cell_type": "code",
   "execution_count": null,
   "metadata": {
    "collapsed": false,
    "scrolled": false
   },
   "outputs": [],
   "source": [
    "t = clf.predict_proba(T)[:, 1] > 0.187\n",
    "print('正样本比例： %.2f%%' % (count_nonzero(t==1) / float(len(t)) * 100))"
   ]
  },
  {
   "cell_type": "code",
   "execution_count": null,
   "metadata": {
    "collapsed": false
   },
   "outputs": [],
   "source": [
    "tst['label'] = list(1 if d else 0 for d in t)"
   ]
  },
  {
   "cell_type": "code",
   "execution_count": null,
   "metadata": {
    "collapsed": false
   },
   "outputs": [],
   "source": [
    "s = tst[tst.label > 0].reset_index()[['user_id', 'location_id', 'merchant_id']].groupby(['user_id', 'location_id']).agg(lambda d: ':'.join(str(i) for i in d))"
   ]
  },
  {
   "cell_type": "code",
   "execution_count": null,
   "metadata": {
    "collapsed": true
   },
   "outputs": [],
   "source": [
    "s[s.index.isin(pred.index)].to_csv('submit/0428_2.csv')"
   ]
  }
 ],
 "metadata": {
  "kernelspec": {
   "display_name": "Python 2",
   "language": "python",
   "name": "python2"
  },
  "language_info": {
   "codemirror_mode": {
    "name": "ipython",
    "version": 2
   },
   "file_extension": ".py",
   "mimetype": "text/x-python",
   "name": "python",
   "nbconvert_exporter": "python",
   "pygments_lexer": "ipython2",
   "version": "2.7.11"
  }
 },
 "nbformat": 4,
 "nbformat_minor": 0
}
