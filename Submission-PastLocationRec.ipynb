{
 "cells": [
  {
   "cell_type": "code",
   "execution_count": 1,
   "metadata": {
    "collapsed": false
   },
   "outputs": [
    {
     "name": "stderr",
     "output_type": "stream",
     "text": [
      "/usr/local/lib/python2.7/site-packages/matplotlib/font_manager.py:273: UserWarning: Matplotlib is building the font cache using fc-list. This may take a moment.\n",
      "  warnings.warn('Matplotlib is building the font cache using fc-list. This may take a moment.')\n"
     ]
    },
    {
     "name": "stdout",
     "output_type": "stream",
     "text": [
      "Populating the interactive namespace from numpy and matplotlib\n"
     ]
    }
   ],
   "source": [
    "%pylab inline"
   ]
  },
  {
   "cell_type": "code",
   "execution_count": 2,
   "metadata": {
    "collapsed": true,
    "slideshow": {
     "slide_type": "-"
    }
   },
   "outputs": [],
   "source": [
    "import pandas as pd"
   ]
  },
  {
   "cell_type": "code",
   "execution_count": 3,
   "metadata": {
    "collapsed": true
   },
   "outputs": [],
   "source": [
    "from datetime import datetime as dt"
   ]
  },
  {
   "cell_type": "code",
   "execution_count": 4,
   "metadata": {
    "collapsed": true
   },
   "outputs": [],
   "source": [
    "koubei = pd.read_csv(\n",
    "    'data/ijcai2016_koubei_train'\n",
    "    , header=None, names=['user_id', 'merchant_id', 'location_id', 'timestamp']\n",
    "#     , dtype=str\n",
    "#     , parse_dates=[3]\n",
    "#     , nrows=10\n",
    ")"
   ]
  },
  {
   "cell_type": "code",
   "execution_count": 5,
   "metadata": {
    "collapsed": true
   },
   "outputs": [],
   "source": [
    "pred = pd.read_csv('data/ijcai2016_koubei_test', header=None, names=['user_id', 'location_id'])"
   ]
  },
  {
   "cell_type": "markdown",
   "metadata": {},
   "source": [
    "# 用户-商家-地理位置的简单关联"
   ]
  },
  {
   "cell_type": "markdown",
   "metadata": {},
   "source": [
    "从总体来看，10 月和 11 月命中的“用户-商家-位置”的数目和占比。"
   ]
  },
  {
   "cell_type": "code",
   "execution_count": 6,
   "metadata": {
    "collapsed": false
   },
   "outputs": [
    {
     "name": "stdout",
     "output_type": "stream",
     "text": [
      "Same (user, merchant, location): 60496\n",
      "Taking 45.15% of Oct.\n",
      "Taking 30.95% of Nov.\n"
     ]
    }
   ],
   "source": [
    "koubei11 = koubei[koubei.timestamp.between(20151101, 20151131)][['user_id', 'location_id', 'merchant_id']].drop_duplicates()\n",
    "koubei10 = koubei[koubei.timestamp.between(20151001, 20151030)][['user_id', 'location_id', 'merchant_id']].drop_duplicates()\n",
    "hit1011 = pd.merge(\n",
    "    koubei10,\n",
    "    koubei11,\n",
    "    on=['user_id', 'location_id', 'merchant_id'], how='inner'\n",
    ").drop_duplicates()\n",
    "print('Same (user, merchant, location): %d' % len(hit1011))\n",
    "print('Taking %.2f%% of Oct.' % (len(hit1011) / float(len(koubei10)) * 100))\n",
    "print('Taking %.2f%% of Nov.' % (len(hit1011) / float(len(koubei11)) * 100))"
   ]
  },
  {
   "cell_type": "code",
   "execution_count": 7,
   "metadata": {
    "collapsed": false
   },
   "outputs": [
    {
     "name": "stdout",
     "output_type": "stream",
     "text": [
      "Same (user, merchant, location): 60496\n",
      "Same (user, location): 64539\n",
      "Ratio of #(user, merchant, location) / #(user, location): 93.74%\n"
     ]
    }
   ],
   "source": [
    "hit1011_ul = pd.merge(\n",
    "    koubei10[['user_id', 'location_id']],\n",
    "    koubei11[['user_id', 'location_id']],\n",
    "    on=['user_id', 'location_id'], how='inner'\n",
    ").drop_duplicates()\n",
    "print('Same (user, merchant, location): %d' % len(hit1011))\n",
    "print('Same (user, location): %d' % len(hit1011_ul))\n",
    "print('Ratio of #(user, merchant, location) / #(user, location): %.2f%%' % (len(hit1011) / float(len(hit1011_ul)) * 100))"
   ]
  },
  {
   "cell_type": "code",
   "execution_count": 8,
   "metadata": {
    "collapsed": false
   },
   "outputs": [
    {
     "data": {
      "image/png": "[encoded data removed]",
      "text/plain": [
       "<matplotlib.figure.Figure at 0x113c40d90>"
      ]
     },
     "metadata": {},
     "output_type": "display_data"
    }
   ],
   "source": [
    "hit1011.groupby(['user_id', 'location_id']).merchant_id.size().hist();"
   ]
  },
  {
   "cell_type": "markdown",
   "metadata": {},
   "source": [
    "## 两个月的情况"
   ]
  },
  {
   "cell_type": "code",
   "execution_count": 9,
   "metadata": {
    "collapsed": false
   },
   "outputs": [
    {
     "name": "stdout",
     "output_type": "stream",
     "text": [
      "Same (user, merchant, location): 65060\n",
      "Taking 40.85% of Sept-Oct.\n",
      "Taking 33.28% of Nov.\n"
     ]
    }
   ],
   "source": [
    "koubei0910 = koubei[koubei.timestamp.between(20150901, 20151030)][['user_id', 'location_id', 'merchant_id']].drop_duplicates()\n",
    "hit091011 = pd.merge(\n",
    "    koubei0910,\n",
    "    koubei11,\n",
    "    on=['user_id', 'location_id', 'merchant_id'], how='inner'\n",
    ").drop_duplicates()\n",
    "print('Same (user, merchant, location): %d' % len(hit091011))\n",
    "print('Taking %.2f%% of Sept-Oct.' % (len(hit091011) / float(len(koubei0910)) * 100))\n",
    "print('Taking %.2f%% of Nov.' % (len(hit091011) / float(len(koubei11)) * 100))"
   ]
  },
  {
   "cell_type": "code",
   "execution_count": 10,
   "metadata": {
    "collapsed": false
   },
   "outputs": [
    {
     "name": "stdout",
     "output_type": "stream",
     "text": [
      "Same (user, merchant, location): 65060\n",
      "Same (user, location): 70046\n",
      "Ratio of #(user, merchant, location) / #(user, location): 92.88%\n"
     ]
    }
   ],
   "source": [
    "hit091011_ul = pd.merge(\n",
    "    koubei0910[['user_id', 'location_id']],\n",
    "    koubei11[['user_id', 'location_id']],\n",
    "    on=['user_id', 'location_id'], how='inner'\n",
    ").drop_duplicates()\n",
    "print('Same (user, merchant, location): %d' % len(hit091011))\n",
    "print('Same (user, location): %d' % len(hit091011_ul))\n",
    "print('Ratio of #(user, merchant, location) / #(user, location): %.2f%%' % (len(hit091011) / float(len(hit091011_ul)) * 100))"
   ]
  },
  {
   "cell_type": "code",
   "execution_count": 11,
   "metadata": {
    "collapsed": false
   },
   "outputs": [
    {
     "data": {
      "image/png": "[encoded data removed]",
      "text/plain": [
       "<matplotlib.figure.Figure at 0x114b44cd0>"
      ]
     },
     "metadata": {},
     "output_type": "display_data"
    }
   ],
   "source": [
    "hit091011.groupby(['user_id', 'location_id']).merchant_id.size().hist();"
   ]
  },
  {
   "cell_type": "markdown",
   "metadata": {},
   "source": [
    "# 交集用户推荐\n",
    "\n",
    "由 Explore-Train 的可视化分析图可以看到，一个用户最终选择的商家基本上和之前去过的商家是类似的。“用户-商家”的热点图中，上个月和上两个月类似，也就是说可以直接根据*上个月的消费记录*推测出这个月这个用户会光顾的商家。\n",
    "\n",
    "但是这种方法有两个缺点：\n",
    "\n",
    "1. 预测用户不全，只能预测出大概 10% 的“用户-地点”记录，并且，这部分用户的预测准确率也只有大概 90%；\n",
    "2. 商家的预算是有限的，最终可能并不能容纳预测出来的用户。"
   ]
  },
  {
   "cell_type": "code",
   "execution_count": 12,
   "metadata": {
    "collapsed": true
   },
   "outputs": [],
   "source": [
    "koubei12 = pd.merge(\n",
    "    koubei[koubei.timestamp.between(20151101, 20151131)][['user_id', 'location_id', 'merchant_id']].drop_duplicates(),\n",
    "    pred[['user_id', 'location_id']].drop_duplicates(),\n",
    "    on=['user_id', 'location_id'], how='inner'\n",
    ").drop_duplicates()"
   ]
  },
  {
   "cell_type": "code",
   "execution_count": 13,
   "metadata": {
    "collapsed": false,
    "scrolled": true
   },
   "outputs": [
    {
     "data": {
      "text/html": [
       "<div>\n",
       "<table border=\"1\" class=\"dataframe\">\n",
       "  <thead>\n",
       "    <tr style=\"text-align: right;\">\n",
       "      <th></th>\n",
       "      <th>user_id</th>\n",
       "      <th>location_id</th>\n",
       "      <th>merchant_id</th>\n",
       "    </tr>\n",
       "  </thead>\n",
       "  <tbody>\n",
       "    <tr>\n",
       "      <th>0</th>\n",
       "      <td>1765014</td>\n",
       "      <td>172</td>\n",
       "      <td>6540</td>\n",
       "    </tr>\n",
       "    <tr>\n",
       "      <th>1</th>\n",
       "      <td>1765014</td>\n",
       "      <td>172</td>\n",
       "      <td>263</td>\n",
       "    </tr>\n",
       "    <tr>\n",
       "      <th>2</th>\n",
       "      <td>1406251</td>\n",
       "      <td>172</td>\n",
       "      <td>6540</td>\n",
       "    </tr>\n",
       "    <tr>\n",
       "      <th>3</th>\n",
       "      <td>1406251</td>\n",
       "      <td>172</td>\n",
       "      <td>820</td>\n",
       "    </tr>\n",
       "    <tr>\n",
       "      <th>4</th>\n",
       "      <td>408834</td>\n",
       "      <td>172</td>\n",
       "      <td>6540</td>\n",
       "    </tr>\n",
       "  </tbody>\n",
       "</table>\n",
       "</div>"
      ],
      "text/plain": [
       "   user_id  location_id  merchant_id\n",
       "0  1765014          172         6540\n",
       "1  1765014          172          263\n",
       "2  1406251          172         6540\n",
       "3  1406251          172          820\n",
       "4   408834          172         6540"
      ]
     },
     "execution_count": 13,
     "metadata": {},
     "output_type": "execute_result"
    }
   ],
   "source": [
    "koubei12.head()"
   ]
  },
  {
   "cell_type": "code",
   "execution_count": 14,
   "metadata": {
    "collapsed": false
   },
   "outputs": [],
   "source": [
    "s = koubei12.groupby(['user_id', 'location_id']).merchant_id.agg(lambda d: ':'.join([str(i) for i in d]))"
   ]
  },
  {
   "cell_type": "code",
   "execution_count": 15,
   "metadata": {
    "collapsed": false
   },
   "outputs": [
    {
     "data": {
      "text/plain": [
       "user_id  location_id\n",
       "42       337                  820\n",
       "89       188                 7667\n",
       "97       84                  3538\n",
       "206      83             2606:2466\n",
       "234      138             221:8898\n",
       "Name: merchant_id, dtype: object"
      ]
     },
     "execution_count": 15,
     "metadata": {},
     "output_type": "execute_result"
    }
   ],
   "source": [
    "s.head()"
   ]
  },
  {
   "cell_type": "code",
   "execution_count": 16,
   "metadata": {
    "collapsed": true
   },
   "outputs": [],
   "source": [
    "s.to_csv('submit/0425.csv')"
   ]
  },
  {
   "cell_type": "markdown",
   "metadata": {},
   "source": [
    "使用口碑全集数据进行关联推荐：即针对个人过去几个月曾经去过的商店进行推荐。"
   ]
  },
  {
   "cell_type": "code",
   "execution_count": 17,
   "metadata": {
    "collapsed": true
   },
   "outputs": [],
   "source": [
    "koubei_pred = pd.merge(\n",
    "    koubei[['user_id', 'location_id', 'merchant_id']].drop_duplicates(),\n",
    "    pred[['user_id', 'location_id']].drop_duplicates(),\n",
    "    on=['user_id', 'location_id'], how='inner'\n",
    ").drop_duplicates()"
   ]
  },
  {
   "cell_type": "code",
   "execution_count": 18,
   "metadata": {
    "collapsed": false,
    "scrolled": true
   },
   "outputs": [
    {
     "data": {
      "text/html": [
       "<div>\n",
       "<table border=\"1\" class=\"dataframe\">\n",
       "  <thead>\n",
       "    <tr style=\"text-align: right;\">\n",
       "      <th></th>\n",
       "      <th>user_id</th>\n",
       "      <th>location_id</th>\n",
       "      <th>merchant_id</th>\n",
       "    </tr>\n",
       "  </thead>\n",
       "  <tbody>\n",
       "    <tr>\n",
       "      <th>0</th>\n",
       "      <td>1975225</td>\n",
       "      <td>172</td>\n",
       "      <td>9399</td>\n",
       "    </tr>\n",
       "    <tr>\n",
       "      <th>1</th>\n",
       "      <td>1975225</td>\n",
       "      <td>172</td>\n",
       "      <td>820</td>\n",
       "    </tr>\n",
       "    <tr>\n",
       "      <th>2</th>\n",
       "      <td>1975225</td>\n",
       "      <td>172</td>\n",
       "      <td>575</td>\n",
       "    </tr>\n",
       "    <tr>\n",
       "      <th>3</th>\n",
       "      <td>1975225</td>\n",
       "      <td>172</td>\n",
       "      <td>2191</td>\n",
       "    </tr>\n",
       "    <tr>\n",
       "      <th>4</th>\n",
       "      <td>357648</td>\n",
       "      <td>172</td>\n",
       "      <td>6540</td>\n",
       "    </tr>\n",
       "  </tbody>\n",
       "</table>\n",
       "</div>"
      ],
      "text/plain": [
       "   user_id  location_id  merchant_id\n",
       "0  1975225          172         9399\n",
       "1  1975225          172          820\n",
       "2  1975225          172          575\n",
       "3  1975225          172         2191\n",
       "4   357648          172         6540"
      ]
     },
     "execution_count": 18,
     "metadata": {},
     "output_type": "execute_result"
    }
   ],
   "source": [
    "koubei_pred.head()"
   ]
  },
  {
   "cell_type": "code",
   "execution_count": 19,
   "metadata": {
    "collapsed": true
   },
   "outputs": [],
   "source": [
    "s2 = koubei_pred.groupby(['user_id', 'location_id']).merchant_id.agg(lambda d: ':'.join([str(i) for i in d]))"
   ]
  },
  {
   "cell_type": "code",
   "execution_count": 20,
   "metadata": {
    "collapsed": false,
    "scrolled": true
   },
   "outputs": [
    {
     "data": {
      "text/plain": [
       "user_id  location_id\n",
       "42       337                  820\n",
       "89       188                 7667\n",
       "97       84                  3538\n",
       "206      83             2606:2466\n",
       "234      138             221:8898\n",
       "Name: merchant_id, dtype: object"
      ]
     },
     "execution_count": 20,
     "metadata": {},
     "output_type": "execute_result"
    }
   ],
   "source": [
    "s2.head()"
   ]
  },
  {
   "cell_type": "code",
   "execution_count": 21,
   "metadata": {
    "collapsed": true
   },
   "outputs": [],
   "source": [
    "s2.to_csv('submit/0425_1.csv')"
   ]
  },
  {
   "cell_type": "markdown",
   "metadata": {},
   "source": [
    "使用口碑全集数据进行关联推荐：即针对个人过去 3 个月曾经去过的商店进行推荐。"
   ]
  },
  {
   "cell_type": "code",
   "execution_count": 22,
   "metadata": {
    "collapsed": false
   },
   "outputs": [],
   "source": [
    "koubei_pred = pd.merge(\n",
    "    koubei[koubei.timestamp.between(20150801, 20151131)][['user_id', 'location_id', 'merchant_id']].drop_duplicates(),\n",
    "    pred[['user_id', 'location_id']].drop_duplicates(),\n",
    "    on=['user_id', 'location_id'], how='inner'\n",
    ").drop_duplicates()"
   ]
  },
  {
   "cell_type": "code",
   "execution_count": 23,
   "metadata": {
    "collapsed": false
   },
   "outputs": [
    {
     "data": {
      "text/html": [
       "<div>\n",
       "<table border=\"1\" class=\"dataframe\">\n",
       "  <thead>\n",
       "    <tr style=\"text-align: right;\">\n",
       "      <th></th>\n",
       "      <th>user_id</th>\n",
       "      <th>location_id</th>\n",
       "      <th>merchant_id</th>\n",
       "    </tr>\n",
       "  </thead>\n",
       "  <tbody>\n",
       "    <tr>\n",
       "      <th>0</th>\n",
       "      <td>1975225</td>\n",
       "      <td>172</td>\n",
       "      <td>9399</td>\n",
       "    </tr>\n",
       "    <tr>\n",
       "      <th>1</th>\n",
       "      <td>1975225</td>\n",
       "      <td>172</td>\n",
       "      <td>820</td>\n",
       "    </tr>\n",
       "    <tr>\n",
       "      <th>2</th>\n",
       "      <td>1975225</td>\n",
       "      <td>172</td>\n",
       "      <td>575</td>\n",
       "    </tr>\n",
       "    <tr>\n",
       "      <th>3</th>\n",
       "      <td>1975225</td>\n",
       "      <td>172</td>\n",
       "      <td>2191</td>\n",
       "    </tr>\n",
       "    <tr>\n",
       "      <th>4</th>\n",
       "      <td>357648</td>\n",
       "      <td>172</td>\n",
       "      <td>6540</td>\n",
       "    </tr>\n",
       "  </tbody>\n",
       "</table>\n",
       "</div>"
      ],
      "text/plain": [
       "   user_id  location_id  merchant_id\n",
       "0  1975225          172         9399\n",
       "1  1975225          172          820\n",
       "2  1975225          172          575\n",
       "3  1975225          172         2191\n",
       "4   357648          172         6540"
      ]
     },
     "execution_count": 23,
     "metadata": {},
     "output_type": "execute_result"
    }
   ],
   "source": [
    "koubei_pred.head()"
   ]
  },
  {
   "cell_type": "code",
   "execution_count": 24,
   "metadata": {
    "collapsed": true
   },
   "outputs": [],
   "source": [
    "s3 = koubei_pred.groupby(['user_id', 'location_id']).merchant_id.agg(lambda d: ':'.join([str(i) for i in d]))"
   ]
  },
  {
   "cell_type": "code",
   "execution_count": 25,
   "metadata": {
    "collapsed": false
   },
   "outputs": [
    {
     "data": {
      "text/plain": [
       "user_id  location_id\n",
       "42       337                  820\n",
       "89       188                 7667\n",
       "97       84                  3538\n",
       "206      83             2606:2466\n",
       "234      138             221:8898\n",
       "Name: merchant_id, dtype: object"
      ]
     },
     "execution_count": 25,
     "metadata": {},
     "output_type": "execute_result"
    }
   ],
   "source": [
    "s3.head()"
   ]
  },
  {
   "cell_type": "code",
   "execution_count": 26,
   "metadata": {
    "collapsed": true
   },
   "outputs": [],
   "source": [
    "s3.to_csv('submit/0428.csv')"
   ]
  }
 ],
 "metadata": {
  "kernelspec": {
   "display_name": "Python 2",
   "language": "python",
   "name": "python2"
  },
  "language_info": {
   "codemirror_mode": {
    "name": "ipython",
    "version": 2
   },
   "file_extension": ".py",
   "mimetype": "text/x-python",
   "name": "python",
   "nbconvert_exporter": "python",
   "pygments_lexer": "ipython2",
   "version": "2.7.11"
  }
 },
 "nbformat": 4,
 "nbformat_minor": 0
}
